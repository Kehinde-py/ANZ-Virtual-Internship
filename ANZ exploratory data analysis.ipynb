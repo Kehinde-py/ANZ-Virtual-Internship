{
 "cells": [
  {
   "cell_type": "markdown",
   "metadata": {},
   "source": [
    "# ANZ Data Analysis Virtual Internship"
   ]
  },
  {
   "cell_type": "markdown",
   "metadata": {},
   "source": [
    "##### About the dataset"
   ]
  },
  {
   "cell_type": "markdown",
   "metadata": {},
   "source": [
    "The dataset contains 3 months worth transactions of 100 hypothetical cuatomers, it contains purchases, recuriing transactions and salary transactions. It is designed to simulate realistic transaction behaviors that are observed in AN's real transaction data. "
   ]
  },
  {
   "cell_type": "markdown",
   "metadata": {},
   "source": [
    "### Exploratory Data Analysis"
   ]
  },
  {
   "cell_type": "markdown",
   "metadata": {},
   "source": [
    "Getting insights from data"
   ]
  },
  {
   "cell_type": "markdown",
   "metadata": {},
   "source": [
    "### Importing necessary libraries"
   ]
  },
  {
   "cell_type": "code",
   "execution_count": 1,
   "metadata": {},
   "outputs": [],
   "source": [
    "import pandas as pd\n",
    "import numpy as np\n",
    "import matplotlib as mpl\n",
    "from matplotlib import pyplot as plt\n",
    "import seaborn as sns"
   ]
  },
  {
   "cell_type": "markdown",
   "metadata": {},
   "source": [
    "### Reading in the dataset"
   ]
  },
  {
   "cell_type": "code",
   "execution_count": 2,
   "metadata": {},
   "outputs": [
    {
     "data": {
      "text/html": [
       "<div>\n",
       "<style scoped>\n",
       "    .dataframe tbody tr th:only-of-type {\n",
       "        vertical-align: middle;\n",
       "    }\n",
       "\n",
       "    .dataframe tbody tr th {\n",
       "        vertical-align: top;\n",
       "    }\n",
       "\n",
       "    .dataframe thead th {\n",
       "        text-align: right;\n",
       "    }\n",
       "</style>\n",
       "<table border=\"1\" class=\"dataframe\">\n",
       "  <thead>\n",
       "    <tr style=\"text-align: right;\">\n",
       "      <th></th>\n",
       "      <th>status</th>\n",
       "      <th>card_present_flag</th>\n",
       "      <th>bpay_biller_code</th>\n",
       "      <th>account</th>\n",
       "      <th>currency</th>\n",
       "      <th>long_lat</th>\n",
       "      <th>txn_description</th>\n",
       "      <th>merchant_id</th>\n",
       "      <th>merchant_code</th>\n",
       "      <th>first_name</th>\n",
       "      <th>...</th>\n",
       "      <th>age</th>\n",
       "      <th>merchant_suburb</th>\n",
       "      <th>merchant_state</th>\n",
       "      <th>extraction</th>\n",
       "      <th>amount</th>\n",
       "      <th>transaction_id</th>\n",
       "      <th>country</th>\n",
       "      <th>customer_id</th>\n",
       "      <th>merchant_long_lat</th>\n",
       "      <th>movement</th>\n",
       "    </tr>\n",
       "  </thead>\n",
       "  <tbody>\n",
       "    <tr>\n",
       "      <th>0</th>\n",
       "      <td>authorized</td>\n",
       "      <td>1.0</td>\n",
       "      <td>NaN</td>\n",
       "      <td>ACC-1598451071</td>\n",
       "      <td>AUD</td>\n",
       "      <td>153.41 -27.95</td>\n",
       "      <td>POS</td>\n",
       "      <td>81c48296-73be-44a7-befa-d053f48ce7cd</td>\n",
       "      <td>NaN</td>\n",
       "      <td>Diana</td>\n",
       "      <td>...</td>\n",
       "      <td>26</td>\n",
       "      <td>Ashmore</td>\n",
       "      <td>QLD</td>\n",
       "      <td>2018-08-01T01:01:15.000+0000</td>\n",
       "      <td>16.25</td>\n",
       "      <td>a623070bfead4541a6b0fff8a09e706c</td>\n",
       "      <td>Australia</td>\n",
       "      <td>CUS-2487424745</td>\n",
       "      <td>153.38 -27.99</td>\n",
       "      <td>debit</td>\n",
       "    </tr>\n",
       "    <tr>\n",
       "      <th>1</th>\n",
       "      <td>authorized</td>\n",
       "      <td>0.0</td>\n",
       "      <td>NaN</td>\n",
       "      <td>ACC-1598451071</td>\n",
       "      <td>AUD</td>\n",
       "      <td>153.41 -27.95</td>\n",
       "      <td>SALES-POS</td>\n",
       "      <td>830a451c-316e-4a6a-bf25-e37caedca49e</td>\n",
       "      <td>NaN</td>\n",
       "      <td>Diana</td>\n",
       "      <td>...</td>\n",
       "      <td>26</td>\n",
       "      <td>Sydney</td>\n",
       "      <td>NSW</td>\n",
       "      <td>2018-08-01T01:13:45.000+0000</td>\n",
       "      <td>14.19</td>\n",
       "      <td>13270a2a902145da9db4c951e04b51b9</td>\n",
       "      <td>Australia</td>\n",
       "      <td>CUS-2487424745</td>\n",
       "      <td>151.21 -33.87</td>\n",
       "      <td>debit</td>\n",
       "    </tr>\n",
       "    <tr>\n",
       "      <th>2</th>\n",
       "      <td>authorized</td>\n",
       "      <td>1.0</td>\n",
       "      <td>NaN</td>\n",
       "      <td>ACC-1222300524</td>\n",
       "      <td>AUD</td>\n",
       "      <td>151.23 -33.94</td>\n",
       "      <td>POS</td>\n",
       "      <td>835c231d-8cdf-4e96-859d-e9d571760cf0</td>\n",
       "      <td>NaN</td>\n",
       "      <td>Michael</td>\n",
       "      <td>...</td>\n",
       "      <td>38</td>\n",
       "      <td>Sydney</td>\n",
       "      <td>NSW</td>\n",
       "      <td>2018-08-01T01:26:15.000+0000</td>\n",
       "      <td>6.42</td>\n",
       "      <td>feb79e7ecd7048a5a36ec889d1a94270</td>\n",
       "      <td>Australia</td>\n",
       "      <td>CUS-2142601169</td>\n",
       "      <td>151.21 -33.87</td>\n",
       "      <td>debit</td>\n",
       "    </tr>\n",
       "    <tr>\n",
       "      <th>3</th>\n",
       "      <td>authorized</td>\n",
       "      <td>1.0</td>\n",
       "      <td>NaN</td>\n",
       "      <td>ACC-1037050564</td>\n",
       "      <td>AUD</td>\n",
       "      <td>153.10 -27.66</td>\n",
       "      <td>SALES-POS</td>\n",
       "      <td>48514682-c78a-4a88-b0da-2d6302e64673</td>\n",
       "      <td>NaN</td>\n",
       "      <td>Rhonda</td>\n",
       "      <td>...</td>\n",
       "      <td>40</td>\n",
       "      <td>Buderim</td>\n",
       "      <td>QLD</td>\n",
       "      <td>2018-08-01T01:38:45.000+0000</td>\n",
       "      <td>40.90</td>\n",
       "      <td>2698170da3704fd981b15e64a006079e</td>\n",
       "      <td>Australia</td>\n",
       "      <td>CUS-1614226872</td>\n",
       "      <td>153.05 -26.68</td>\n",
       "      <td>debit</td>\n",
       "    </tr>\n",
       "    <tr>\n",
       "      <th>4</th>\n",
       "      <td>authorized</td>\n",
       "      <td>1.0</td>\n",
       "      <td>NaN</td>\n",
       "      <td>ACC-1598451071</td>\n",
       "      <td>AUD</td>\n",
       "      <td>153.41 -27.95</td>\n",
       "      <td>SALES-POS</td>\n",
       "      <td>b4e02c10-0852-4273-b8fd-7b3395e32eb0</td>\n",
       "      <td>NaN</td>\n",
       "      <td>Diana</td>\n",
       "      <td>...</td>\n",
       "      <td>26</td>\n",
       "      <td>Mermaid Beach</td>\n",
       "      <td>QLD</td>\n",
       "      <td>2018-08-01T01:51:15.000+0000</td>\n",
       "      <td>3.25</td>\n",
       "      <td>329adf79878c4cf0aeb4188b4691c266</td>\n",
       "      <td>Australia</td>\n",
       "      <td>CUS-2487424745</td>\n",
       "      <td>153.44 -28.06</td>\n",
       "      <td>debit</td>\n",
       "    </tr>\n",
       "  </tbody>\n",
       "</table>\n",
       "<p>5 rows × 23 columns</p>\n",
       "</div>"
      ],
      "text/plain": [
       "       status  card_present_flag bpay_biller_code         account currency  \\\n",
       "0  authorized                1.0              NaN  ACC-1598451071      AUD   \n",
       "1  authorized                0.0              NaN  ACC-1598451071      AUD   \n",
       "2  authorized                1.0              NaN  ACC-1222300524      AUD   \n",
       "3  authorized                1.0              NaN  ACC-1037050564      AUD   \n",
       "4  authorized                1.0              NaN  ACC-1598451071      AUD   \n",
       "\n",
       "        long_lat txn_description                           merchant_id  \\\n",
       "0  153.41 -27.95             POS  81c48296-73be-44a7-befa-d053f48ce7cd   \n",
       "1  153.41 -27.95       SALES-POS  830a451c-316e-4a6a-bf25-e37caedca49e   \n",
       "2  151.23 -33.94             POS  835c231d-8cdf-4e96-859d-e9d571760cf0   \n",
       "3  153.10 -27.66       SALES-POS  48514682-c78a-4a88-b0da-2d6302e64673   \n",
       "4  153.41 -27.95       SALES-POS  b4e02c10-0852-4273-b8fd-7b3395e32eb0   \n",
       "\n",
       "   merchant_code first_name  ...  age merchant_suburb merchant_state  \\\n",
       "0            NaN      Diana  ...   26         Ashmore            QLD   \n",
       "1            NaN      Diana  ...   26          Sydney            NSW   \n",
       "2            NaN    Michael  ...   38          Sydney            NSW   \n",
       "3            NaN     Rhonda  ...   40         Buderim            QLD   \n",
       "4            NaN      Diana  ...   26   Mermaid Beach            QLD   \n",
       "\n",
       "                     extraction amount                    transaction_id  \\\n",
       "0  2018-08-01T01:01:15.000+0000  16.25  a623070bfead4541a6b0fff8a09e706c   \n",
       "1  2018-08-01T01:13:45.000+0000  14.19  13270a2a902145da9db4c951e04b51b9   \n",
       "2  2018-08-01T01:26:15.000+0000   6.42  feb79e7ecd7048a5a36ec889d1a94270   \n",
       "3  2018-08-01T01:38:45.000+0000  40.90  2698170da3704fd981b15e64a006079e   \n",
       "4  2018-08-01T01:51:15.000+0000   3.25  329adf79878c4cf0aeb4188b4691c266   \n",
       "\n",
       "     country     customer_id merchant_long_lat movement  \n",
       "0  Australia  CUS-2487424745     153.38 -27.99    debit  \n",
       "1  Australia  CUS-2487424745     151.21 -33.87    debit  \n",
       "2  Australia  CUS-2142601169     151.21 -33.87    debit  \n",
       "3  Australia  CUS-1614226872     153.05 -26.68    debit  \n",
       "4  Australia  CUS-2487424745     153.44 -28.06    debit  \n",
       "\n",
       "[5 rows x 23 columns]"
      ]
     },
     "execution_count": 2,
     "metadata": {},
     "output_type": "execute_result"
    }
   ],
   "source": [
    "#load dataset\n",
    "ANZ_df = pd.read_excel('ANZ_dataset.xlsx')\n",
    "ANZ_df.set_index('customer_id')\n",
    "ANZ_df.head()"
   ]
  },
  {
   "cell_type": "code",
   "execution_count": 3,
   "metadata": {},
   "outputs": [
    {
     "data": {
      "text/plain": [
       "12043"
      ]
     },
     "execution_count": 3,
     "metadata": {},
     "output_type": "execute_result"
    }
   ],
   "source": [
    "#number of rows\n",
    "len(ANZ_df.index)"
   ]
  },
  {
   "cell_type": "code",
   "execution_count": 4,
   "metadata": {},
   "outputs": [
    {
     "data": {
      "text/plain": [
       "23"
      ]
     },
     "execution_count": 4,
     "metadata": {},
     "output_type": "execute_result"
    }
   ],
   "source": [
    "#number of columns\n",
    "len(ANZ_df.columns)"
   ]
  },
  {
   "cell_type": "code",
   "execution_count": 5,
   "metadata": {},
   "outputs": [
    {
     "data": {
      "text/plain": [
       "Index(['status', 'card_present_flag', 'bpay_biller_code', 'account',\n",
       "       'currency', 'long_lat', 'txn_description', 'merchant_id',\n",
       "       'merchant_code', 'first_name', 'balance', 'date', 'gender', 'age',\n",
       "       'merchant_suburb', 'merchant_state', 'extraction', 'amount',\n",
       "       'transaction_id', 'country', 'customer_id', 'merchant_long_lat',\n",
       "       'movement'],\n",
       "      dtype='object')"
      ]
     },
     "execution_count": 5,
     "metadata": {},
     "output_type": "execute_result"
    }
   ],
   "source": [
    "#checking columns\n",
    "ANZ_df.columns"
   ]
  },
  {
   "cell_type": "code",
   "execution_count": 6,
   "metadata": {},
   "outputs": [
    {
     "name": "stdout",
     "output_type": "stream",
     "text": [
      "<class 'pandas.core.frame.DataFrame'>\n",
      "RangeIndex: 12043 entries, 0 to 12042\n",
      "Data columns (total 23 columns):\n",
      " #   Column             Non-Null Count  Dtype         \n",
      "---  ------             --------------  -----         \n",
      " 0   status             12043 non-null  object        \n",
      " 1   card_present_flag  7717 non-null   float64       \n",
      " 2   bpay_biller_code   885 non-null    object        \n",
      " 3   account            12043 non-null  object        \n",
      " 4   currency           12043 non-null  object        \n",
      " 5   long_lat           12043 non-null  object        \n",
      " 6   txn_description    12043 non-null  object        \n",
      " 7   merchant_id        7717 non-null   object        \n",
      " 8   merchant_code      883 non-null    float64       \n",
      " 9   first_name         12043 non-null  object        \n",
      " 10  balance            12043 non-null  float64       \n",
      " 11  date               12043 non-null  datetime64[ns]\n",
      " 12  gender             12043 non-null  object        \n",
      " 13  age                12043 non-null  int64         \n",
      " 14  merchant_suburb    7717 non-null   object        \n",
      " 15  merchant_state     7717 non-null   object        \n",
      " 16  extraction         12043 non-null  object        \n",
      " 17  amount             12043 non-null  float64       \n",
      " 18  transaction_id     12043 non-null  object        \n",
      " 19  country            12043 non-null  object        \n",
      " 20  customer_id        12043 non-null  object        \n",
      " 21  merchant_long_lat  7717 non-null   object        \n",
      " 22  movement           12043 non-null  object        \n",
      "dtypes: datetime64[ns](1), float64(4), int64(1), object(17)\n",
      "memory usage: 2.1+ MB\n"
     ]
    }
   ],
   "source": [
    "ANZ_df.info()"
   ]
  },
  {
   "cell_type": "code",
   "execution_count": 7,
   "metadata": {},
   "outputs": [
    {
     "data": {
      "text/html": [
       "<div>\n",
       "<style scoped>\n",
       "    .dataframe tbody tr th:only-of-type {\n",
       "        vertical-align: middle;\n",
       "    }\n",
       "\n",
       "    .dataframe tbody tr th {\n",
       "        vertical-align: top;\n",
       "    }\n",
       "\n",
       "    .dataframe thead th {\n",
       "        text-align: right;\n",
       "    }\n",
       "</style>\n",
       "<table border=\"1\" class=\"dataframe\">\n",
       "  <thead>\n",
       "    <tr style=\"text-align: right;\">\n",
       "      <th></th>\n",
       "      <th>card_present_flag</th>\n",
       "      <th>merchant_code</th>\n",
       "      <th>balance</th>\n",
       "      <th>age</th>\n",
       "      <th>amount</th>\n",
       "    </tr>\n",
       "  </thead>\n",
       "  <tbody>\n",
       "    <tr>\n",
       "      <th>count</th>\n",
       "      <td>7717.000000</td>\n",
       "      <td>883.0</td>\n",
       "      <td>12043.000000</td>\n",
       "      <td>12043.000000</td>\n",
       "      <td>12043.000000</td>\n",
       "    </tr>\n",
       "    <tr>\n",
       "      <th>mean</th>\n",
       "      <td>0.802644</td>\n",
       "      <td>0.0</td>\n",
       "      <td>14704.195553</td>\n",
       "      <td>30.582330</td>\n",
       "      <td>187.933588</td>\n",
       "    </tr>\n",
       "    <tr>\n",
       "      <th>std</th>\n",
       "      <td>0.398029</td>\n",
       "      <td>0.0</td>\n",
       "      <td>31503.722652</td>\n",
       "      <td>10.046343</td>\n",
       "      <td>592.599934</td>\n",
       "    </tr>\n",
       "    <tr>\n",
       "      <th>min</th>\n",
       "      <td>0.000000</td>\n",
       "      <td>0.0</td>\n",
       "      <td>0.240000</td>\n",
       "      <td>18.000000</td>\n",
       "      <td>0.100000</td>\n",
       "    </tr>\n",
       "    <tr>\n",
       "      <th>25%</th>\n",
       "      <td>1.000000</td>\n",
       "      <td>0.0</td>\n",
       "      <td>3158.585000</td>\n",
       "      <td>22.000000</td>\n",
       "      <td>16.000000</td>\n",
       "    </tr>\n",
       "    <tr>\n",
       "      <th>50%</th>\n",
       "      <td>1.000000</td>\n",
       "      <td>0.0</td>\n",
       "      <td>6432.010000</td>\n",
       "      <td>28.000000</td>\n",
       "      <td>29.000000</td>\n",
       "    </tr>\n",
       "    <tr>\n",
       "      <th>75%</th>\n",
       "      <td>1.000000</td>\n",
       "      <td>0.0</td>\n",
       "      <td>12465.945000</td>\n",
       "      <td>38.000000</td>\n",
       "      <td>53.655000</td>\n",
       "    </tr>\n",
       "    <tr>\n",
       "      <th>max</th>\n",
       "      <td>1.000000</td>\n",
       "      <td>0.0</td>\n",
       "      <td>267128.520000</td>\n",
       "      <td>78.000000</td>\n",
       "      <td>8835.980000</td>\n",
       "    </tr>\n",
       "  </tbody>\n",
       "</table>\n",
       "</div>"
      ],
      "text/plain": [
       "       card_present_flag  merchant_code        balance           age  \\\n",
       "count        7717.000000          883.0   12043.000000  12043.000000   \n",
       "mean            0.802644            0.0   14704.195553     30.582330   \n",
       "std             0.398029            0.0   31503.722652     10.046343   \n",
       "min             0.000000            0.0       0.240000     18.000000   \n",
       "25%             1.000000            0.0    3158.585000     22.000000   \n",
       "50%             1.000000            0.0    6432.010000     28.000000   \n",
       "75%             1.000000            0.0   12465.945000     38.000000   \n",
       "max             1.000000            0.0  267128.520000     78.000000   \n",
       "\n",
       "             amount  \n",
       "count  12043.000000  \n",
       "mean     187.933588  \n",
       "std      592.599934  \n",
       "min        0.100000  \n",
       "25%       16.000000  \n",
       "50%       29.000000  \n",
       "75%       53.655000  \n",
       "max     8835.980000  "
      ]
     },
     "execution_count": 7,
     "metadata": {},
     "output_type": "execute_result"
    }
   ],
   "source": [
    "#descriptive statistics of the dataset\n",
    "ANZ_df.describe()"
   ]
  },
  {
   "cell_type": "code",
   "execution_count": 8,
   "metadata": {},
   "outputs": [
    {
     "data": {
      "text/plain": [
       "merchant_code        11160\n",
       "bpay_biller_code     11158\n",
       "card_present_flag     4326\n",
       "merchant_state        4326\n",
       "merchant_suburb       4326\n",
       "merchant_id           4326\n",
       "merchant_long_lat     4326\n",
       "movement                 0\n",
       "first_name               0\n",
       "account                  0\n",
       "currency                 0\n",
       "long_lat                 0\n",
       "txn_description          0\n",
       "date                     0\n",
       "balance                  0\n",
       "gender                   0\n",
       "age                      0\n",
       "extraction               0\n",
       "amount                   0\n",
       "transaction_id           0\n",
       "country                  0\n",
       "customer_id              0\n",
       "status                   0\n",
       "dtype: int64"
      ]
     },
     "execution_count": 8,
     "metadata": {},
     "output_type": "execute_result"
    }
   ],
   "source": [
    "#sum of null values\n",
    "ANZ_df.isna().sum().sort_values(ascending = False)"
   ]
  },
  {
   "cell_type": "code",
   "execution_count": 9,
   "metadata": {},
   "outputs": [
    {
     "data": {
      "text/plain": [
       "status                       object\n",
       "card_present_flag           float64\n",
       "bpay_biller_code             object\n",
       "account                      object\n",
       "currency                     object\n",
       "long_lat                     object\n",
       "txn_description              object\n",
       "merchant_id                  object\n",
       "merchant_code               float64\n",
       "first_name                   object\n",
       "balance                     float64\n",
       "date                 datetime64[ns]\n",
       "gender                       object\n",
       "age                           int64\n",
       "merchant_suburb              object\n",
       "merchant_state               object\n",
       "extraction                   object\n",
       "amount                      float64\n",
       "transaction_id               object\n",
       "country                      object\n",
       "customer_id                  object\n",
       "merchant_long_lat            object\n",
       "movement                     object\n",
       "dtype: object"
      ]
     },
     "execution_count": 9,
     "metadata": {},
     "output_type": "execute_result"
    }
   ],
   "source": [
    "#knowing the data type of each column\n",
    "ANZ_df.dtypes"
   ]
  },
  {
   "cell_type": "code",
   "execution_count": 10,
   "metadata": {},
   "outputs": [
    {
     "data": {
      "text/plain": [
       "100"
      ]
     },
     "execution_count": 10,
     "metadata": {},
     "output_type": "execute_result"
    }
   ],
   "source": [
    "#number of unique account\n",
    "ANZ_df['account'].nunique()"
   ]
  },
  {
   "cell_type": "code",
   "execution_count": 11,
   "metadata": {},
   "outputs": [
    {
     "data": {
      "text/html": [
       "<div>\n",
       "<style scoped>\n",
       "    .dataframe tbody tr th:only-of-type {\n",
       "        vertical-align: middle;\n",
       "    }\n",
       "\n",
       "    .dataframe tbody tr th {\n",
       "        vertical-align: top;\n",
       "    }\n",
       "\n",
       "    .dataframe thead tr th {\n",
       "        text-align: left;\n",
       "    }\n",
       "\n",
       "    .dataframe thead tr:last-of-type th {\n",
       "        text-align: right;\n",
       "    }\n",
       "</style>\n",
       "<table border=\"1\" class=\"dataframe\">\n",
       "  <thead>\n",
       "    <tr>\n",
       "      <th></th>\n",
       "      <th colspan=\"8\" halign=\"left\">card_present_flag</th>\n",
       "      <th colspan=\"2\" halign=\"left\">merchant_code</th>\n",
       "      <th>...</th>\n",
       "      <th colspan=\"2\" halign=\"left\">age</th>\n",
       "      <th colspan=\"8\" halign=\"left\">amount</th>\n",
       "    </tr>\n",
       "    <tr>\n",
       "      <th></th>\n",
       "      <th>count</th>\n",
       "      <th>mean</th>\n",
       "      <th>std</th>\n",
       "      <th>min</th>\n",
       "      <th>25%</th>\n",
       "      <th>50%</th>\n",
       "      <th>75%</th>\n",
       "      <th>max</th>\n",
       "      <th>count</th>\n",
       "      <th>mean</th>\n",
       "      <th>...</th>\n",
       "      <th>75%</th>\n",
       "      <th>max</th>\n",
       "      <th>count</th>\n",
       "      <th>mean</th>\n",
       "      <th>std</th>\n",
       "      <th>min</th>\n",
       "      <th>25%</th>\n",
       "      <th>50%</th>\n",
       "      <th>75%</th>\n",
       "      <th>max</th>\n",
       "    </tr>\n",
       "    <tr>\n",
       "      <th>account</th>\n",
       "      <th></th>\n",
       "      <th></th>\n",
       "      <th></th>\n",
       "      <th></th>\n",
       "      <th></th>\n",
       "      <th></th>\n",
       "      <th></th>\n",
       "      <th></th>\n",
       "      <th></th>\n",
       "      <th></th>\n",
       "      <th></th>\n",
       "      <th></th>\n",
       "      <th></th>\n",
       "      <th></th>\n",
       "      <th></th>\n",
       "      <th></th>\n",
       "      <th></th>\n",
       "      <th></th>\n",
       "      <th></th>\n",
       "      <th></th>\n",
       "      <th></th>\n",
       "    </tr>\n",
       "  </thead>\n",
       "  <tbody>\n",
       "    <tr>\n",
       "      <th>ACC-1037050564</th>\n",
       "      <td>220.0</td>\n",
       "      <td>0.827273</td>\n",
       "      <td>0.378873</td>\n",
       "      <td>0.0</td>\n",
       "      <td>1.00</td>\n",
       "      <td>1.0</td>\n",
       "      <td>1.0</td>\n",
       "      <td>1.0</td>\n",
       "      <td>13.0</td>\n",
       "      <td>0.0</td>\n",
       "      <td>...</td>\n",
       "      <td>40.0</td>\n",
       "      <td>40.0</td>\n",
       "      <td>259.0</td>\n",
       "      <td>74.465019</td>\n",
       "      <td>190.426861</td>\n",
       "      <td>3.71</td>\n",
       "      <td>14.1000</td>\n",
       "      <td>25.380</td>\n",
       "      <td>41.7150</td>\n",
       "      <td>892.09</td>\n",
       "    </tr>\n",
       "    <tr>\n",
       "      <th>ACC-1056639002</th>\n",
       "      <td>58.0</td>\n",
       "      <td>0.775862</td>\n",
       "      <td>0.420655</td>\n",
       "      <td>0.0</td>\n",
       "      <td>1.00</td>\n",
       "      <td>1.0</td>\n",
       "      <td>1.0</td>\n",
       "      <td>1.0</td>\n",
       "      <td>6.0</td>\n",
       "      <td>0.0</td>\n",
       "      <td>...</td>\n",
       "      <td>22.0</td>\n",
       "      <td>22.0</td>\n",
       "      <td>86.0</td>\n",
       "      <td>265.134767</td>\n",
       "      <td>808.951487</td>\n",
       "      <td>5.97</td>\n",
       "      <td>15.3200</td>\n",
       "      <td>35.170</td>\n",
       "      <td>54.8100</td>\n",
       "      <td>3195.01</td>\n",
       "    </tr>\n",
       "    <tr>\n",
       "      <th>ACC-1199531521</th>\n",
       "      <td>43.0</td>\n",
       "      <td>0.744186</td>\n",
       "      <td>0.441481</td>\n",
       "      <td>0.0</td>\n",
       "      <td>0.50</td>\n",
       "      <td>1.0</td>\n",
       "      <td>1.0</td>\n",
       "      <td>1.0</td>\n",
       "      <td>7.0</td>\n",
       "      <td>0.0</td>\n",
       "      <td>...</td>\n",
       "      <td>52.0</td>\n",
       "      <td>52.0</td>\n",
       "      <td>77.0</td>\n",
       "      <td>418.742468</td>\n",
       "      <td>1096.170654</td>\n",
       "      <td>6.31</td>\n",
       "      <td>20.0000</td>\n",
       "      <td>28.670</td>\n",
       "      <td>93.0000</td>\n",
       "      <td>3785.78</td>\n",
       "    </tr>\n",
       "    <tr>\n",
       "      <th>ACC-1217063613</th>\n",
       "      <td>14.0</td>\n",
       "      <td>0.785714</td>\n",
       "      <td>0.425815</td>\n",
       "      <td>0.0</td>\n",
       "      <td>1.00</td>\n",
       "      <td>1.0</td>\n",
       "      <td>1.0</td>\n",
       "      <td>1.0</td>\n",
       "      <td>2.0</td>\n",
       "      <td>0.0</td>\n",
       "      <td>...</td>\n",
       "      <td>27.0</td>\n",
       "      <td>27.0</td>\n",
       "      <td>25.0</td>\n",
       "      <td>426.108800</td>\n",
       "      <td>1336.447627</td>\n",
       "      <td>7.06</td>\n",
       "      <td>14.7300</td>\n",
       "      <td>20.000</td>\n",
       "      <td>41.7500</td>\n",
       "      <td>4863.62</td>\n",
       "    </tr>\n",
       "    <tr>\n",
       "      <th>ACC-1222300524</th>\n",
       "      <td>276.0</td>\n",
       "      <td>0.818841</td>\n",
       "      <td>0.385850</td>\n",
       "      <td>0.0</td>\n",
       "      <td>1.00</td>\n",
       "      <td>1.0</td>\n",
       "      <td>1.0</td>\n",
       "      <td>1.0</td>\n",
       "      <td>13.0</td>\n",
       "      <td>0.0</td>\n",
       "      <td>...</td>\n",
       "      <td>38.0</td>\n",
       "      <td>38.0</td>\n",
       "      <td>303.0</td>\n",
       "      <td>78.206106</td>\n",
       "      <td>245.088217</td>\n",
       "      <td>2.10</td>\n",
       "      <td>8.6900</td>\n",
       "      <td>15.970</td>\n",
       "      <td>26.7100</td>\n",
       "      <td>2349.55</td>\n",
       "    </tr>\n",
       "    <tr>\n",
       "      <th>...</th>\n",
       "      <td>...</td>\n",
       "      <td>...</td>\n",
       "      <td>...</td>\n",
       "      <td>...</td>\n",
       "      <td>...</td>\n",
       "      <td>...</td>\n",
       "      <td>...</td>\n",
       "      <td>...</td>\n",
       "      <td>...</td>\n",
       "      <td>...</td>\n",
       "      <td>...</td>\n",
       "      <td>...</td>\n",
       "      <td>...</td>\n",
       "      <td>...</td>\n",
       "      <td>...</td>\n",
       "      <td>...</td>\n",
       "      <td>...</td>\n",
       "      <td>...</td>\n",
       "      <td>...</td>\n",
       "      <td>...</td>\n",
       "      <td>...</td>\n",
       "    </tr>\n",
       "    <tr>\n",
       "      <th>ACC-854938045</th>\n",
       "      <td>115.0</td>\n",
       "      <td>0.808696</td>\n",
       "      <td>0.395049</td>\n",
       "      <td>0.0</td>\n",
       "      <td>1.00</td>\n",
       "      <td>1.0</td>\n",
       "      <td>1.0</td>\n",
       "      <td>1.0</td>\n",
       "      <td>7.0</td>\n",
       "      <td>0.0</td>\n",
       "      <td>...</td>\n",
       "      <td>28.0</td>\n",
       "      <td>28.0</td>\n",
       "      <td>169.0</td>\n",
       "      <td>156.932249</td>\n",
       "      <td>500.109586</td>\n",
       "      <td>5.62</td>\n",
       "      <td>25.2500</td>\n",
       "      <td>41.180</td>\n",
       "      <td>58.0000</td>\n",
       "      <td>2538.68</td>\n",
       "    </tr>\n",
       "    <tr>\n",
       "      <th>ACC-90814749</th>\n",
       "      <td>86.0</td>\n",
       "      <td>0.779070</td>\n",
       "      <td>0.417307</td>\n",
       "      <td>0.0</td>\n",
       "      <td>1.00</td>\n",
       "      <td>1.0</td>\n",
       "      <td>1.0</td>\n",
       "      <td>1.0</td>\n",
       "      <td>6.0</td>\n",
       "      <td>0.0</td>\n",
       "      <td>...</td>\n",
       "      <td>35.0</td>\n",
       "      <td>35.0</td>\n",
       "      <td>124.0</td>\n",
       "      <td>167.893548</td>\n",
       "      <td>513.971890</td>\n",
       "      <td>6.90</td>\n",
       "      <td>21.4850</td>\n",
       "      <td>36.000</td>\n",
       "      <td>57.2025</td>\n",
       "      <td>2308.67</td>\n",
       "    </tr>\n",
       "    <tr>\n",
       "      <th>ACC-958000567</th>\n",
       "      <td>112.0</td>\n",
       "      <td>0.750000</td>\n",
       "      <td>0.434959</td>\n",
       "      <td>0.0</td>\n",
       "      <td>0.75</td>\n",
       "      <td>1.0</td>\n",
       "      <td>1.0</td>\n",
       "      <td>1.0</td>\n",
       "      <td>7.0</td>\n",
       "      <td>0.0</td>\n",
       "      <td>...</td>\n",
       "      <td>34.0</td>\n",
       "      <td>34.0</td>\n",
       "      <td>174.0</td>\n",
       "      <td>210.277299</td>\n",
       "      <td>700.277440</td>\n",
       "      <td>5.96</td>\n",
       "      <td>17.7125</td>\n",
       "      <td>31.875</td>\n",
       "      <td>59.9200</td>\n",
       "      <td>3517.61</td>\n",
       "    </tr>\n",
       "    <tr>\n",
       "      <th>ACC-964839203</th>\n",
       "      <td>69.0</td>\n",
       "      <td>0.855072</td>\n",
       "      <td>0.354607</td>\n",
       "      <td>0.0</td>\n",
       "      <td>1.00</td>\n",
       "      <td>1.0</td>\n",
       "      <td>1.0</td>\n",
       "      <td>1.0</td>\n",
       "      <td>13.0</td>\n",
       "      <td>0.0</td>\n",
       "      <td>...</td>\n",
       "      <td>21.0</td>\n",
       "      <td>21.0</td>\n",
       "      <td>118.0</td>\n",
       "      <td>222.325932</td>\n",
       "      <td>505.626889</td>\n",
       "      <td>3.52</td>\n",
       "      <td>23.7725</td>\n",
       "      <td>31.545</td>\n",
       "      <td>52.6250</td>\n",
       "      <td>1956.00</td>\n",
       "    </tr>\n",
       "    <tr>\n",
       "      <th>ACC-966140392</th>\n",
       "      <td>112.0</td>\n",
       "      <td>0.803571</td>\n",
       "      <td>0.399082</td>\n",
       "      <td>0.0</td>\n",
       "      <td>1.00</td>\n",
       "      <td>1.0</td>\n",
       "      <td>1.0</td>\n",
       "      <td>1.0</td>\n",
       "      <td>7.0</td>\n",
       "      <td>0.0</td>\n",
       "      <td>...</td>\n",
       "      <td>21.0</td>\n",
       "      <td>21.0</td>\n",
       "      <td>152.0</td>\n",
       "      <td>154.711842</td>\n",
       "      <td>537.308981</td>\n",
       "      <td>5.92</td>\n",
       "      <td>12.8450</td>\n",
       "      <td>21.560</td>\n",
       "      <td>35.0000</td>\n",
       "      <td>2572.91</td>\n",
       "    </tr>\n",
       "  </tbody>\n",
       "</table>\n",
       "<p>100 rows × 40 columns</p>\n",
       "</div>"
      ],
      "text/plain": [
       "               card_present_flag                                           \\\n",
       "                           count      mean       std  min   25%  50%  75%   \n",
       "account                                                                     \n",
       "ACC-1037050564             220.0  0.827273  0.378873  0.0  1.00  1.0  1.0   \n",
       "ACC-1056639002              58.0  0.775862  0.420655  0.0  1.00  1.0  1.0   \n",
       "ACC-1199531521              43.0  0.744186  0.441481  0.0  0.50  1.0  1.0   \n",
       "ACC-1217063613              14.0  0.785714  0.425815  0.0  1.00  1.0  1.0   \n",
       "ACC-1222300524             276.0  0.818841  0.385850  0.0  1.00  1.0  1.0   \n",
       "...                          ...       ...       ...  ...   ...  ...  ...   \n",
       "ACC-854938045              115.0  0.808696  0.395049  0.0  1.00  1.0  1.0   \n",
       "ACC-90814749                86.0  0.779070  0.417307  0.0  1.00  1.0  1.0   \n",
       "ACC-958000567              112.0  0.750000  0.434959  0.0  0.75  1.0  1.0   \n",
       "ACC-964839203               69.0  0.855072  0.354607  0.0  1.00  1.0  1.0   \n",
       "ACC-966140392              112.0  0.803571  0.399082  0.0  1.00  1.0  1.0   \n",
       "\n",
       "                    merchant_code       ...   age       amount              \\\n",
       "                max         count mean  ...   75%   max  count        mean   \n",
       "account                                 ...                                  \n",
       "ACC-1037050564  1.0          13.0  0.0  ...  40.0  40.0  259.0   74.465019   \n",
       "ACC-1056639002  1.0           6.0  0.0  ...  22.0  22.0   86.0  265.134767   \n",
       "ACC-1199531521  1.0           7.0  0.0  ...  52.0  52.0   77.0  418.742468   \n",
       "ACC-1217063613  1.0           2.0  0.0  ...  27.0  27.0   25.0  426.108800   \n",
       "ACC-1222300524  1.0          13.0  0.0  ...  38.0  38.0  303.0   78.206106   \n",
       "...             ...           ...  ...  ...   ...   ...    ...         ...   \n",
       "ACC-854938045   1.0           7.0  0.0  ...  28.0  28.0  169.0  156.932249   \n",
       "ACC-90814749    1.0           6.0  0.0  ...  35.0  35.0  124.0  167.893548   \n",
       "ACC-958000567   1.0           7.0  0.0  ...  34.0  34.0  174.0  210.277299   \n",
       "ACC-964839203   1.0          13.0  0.0  ...  21.0  21.0  118.0  222.325932   \n",
       "ACC-966140392   1.0           7.0  0.0  ...  21.0  21.0  152.0  154.711842   \n",
       "\n",
       "                                                                      \n",
       "                        std   min      25%     50%      75%      max  \n",
       "account                                                               \n",
       "ACC-1037050564   190.426861  3.71  14.1000  25.380  41.7150   892.09  \n",
       "ACC-1056639002   808.951487  5.97  15.3200  35.170  54.8100  3195.01  \n",
       "ACC-1199531521  1096.170654  6.31  20.0000  28.670  93.0000  3785.78  \n",
       "ACC-1217063613  1336.447627  7.06  14.7300  20.000  41.7500  4863.62  \n",
       "ACC-1222300524   245.088217  2.10   8.6900  15.970  26.7100  2349.55  \n",
       "...                     ...   ...      ...     ...      ...      ...  \n",
       "ACC-854938045    500.109586  5.62  25.2500  41.180  58.0000  2538.68  \n",
       "ACC-90814749     513.971890  6.90  21.4850  36.000  57.2025  2308.67  \n",
       "ACC-958000567    700.277440  5.96  17.7125  31.875  59.9200  3517.61  \n",
       "ACC-964839203    505.626889  3.52  23.7725  31.545  52.6250  1956.00  \n",
       "ACC-966140392    537.308981  5.92  12.8450  21.560  35.0000  2572.91  \n",
       "\n",
       "[100 rows x 40 columns]"
      ]
     },
     "execution_count": 11,
     "metadata": {},
     "output_type": "execute_result"
    }
   ],
   "source": [
    "#descriptive statistics\n",
    "ANZ_df.groupby('account').describe()"
   ]
  },
  {
   "cell_type": "code",
   "execution_count": 12,
   "metadata": {},
   "outputs": [],
   "source": [
    "ANZ_df.reset_index(drop = True, inplace = True)"
   ]
  },
  {
   "cell_type": "markdown",
   "metadata": {},
   "source": [
    "### Selecting relevant features"
   ]
  },
  {
   "cell_type": "code",
   "execution_count": 13,
   "metadata": {},
   "outputs": [
    {
     "data": {
      "text/html": [
       "<div>\n",
       "<style scoped>\n",
       "    .dataframe tbody tr th:only-of-type {\n",
       "        vertical-align: middle;\n",
       "    }\n",
       "\n",
       "    .dataframe tbody tr th {\n",
       "        vertical-align: top;\n",
       "    }\n",
       "\n",
       "    .dataframe thead th {\n",
       "        text-align: right;\n",
       "    }\n",
       "</style>\n",
       "<table border=\"1\" class=\"dataframe\">\n",
       "  <thead>\n",
       "    <tr style=\"text-align: right;\">\n",
       "      <th></th>\n",
       "      <th>customer_id</th>\n",
       "      <th>status</th>\n",
       "      <th>card_present_flag</th>\n",
       "      <th>balance</th>\n",
       "      <th>date</th>\n",
       "      <th>gender</th>\n",
       "      <th>age</th>\n",
       "      <th>merchant_suburb</th>\n",
       "      <th>merchant_state</th>\n",
       "      <th>amount</th>\n",
       "      <th>movement</th>\n",
       "    </tr>\n",
       "  </thead>\n",
       "  <tbody>\n",
       "    <tr>\n",
       "      <th>0</th>\n",
       "      <td>CUS-2487424745</td>\n",
       "      <td>authorized</td>\n",
       "      <td>1.0</td>\n",
       "      <td>35.39</td>\n",
       "      <td>2018-08-01</td>\n",
       "      <td>F</td>\n",
       "      <td>26</td>\n",
       "      <td>Ashmore</td>\n",
       "      <td>QLD</td>\n",
       "      <td>16.25</td>\n",
       "      <td>debit</td>\n",
       "    </tr>\n",
       "    <tr>\n",
       "      <th>1</th>\n",
       "      <td>CUS-2487424745</td>\n",
       "      <td>authorized</td>\n",
       "      <td>0.0</td>\n",
       "      <td>21.20</td>\n",
       "      <td>2018-08-01</td>\n",
       "      <td>F</td>\n",
       "      <td>26</td>\n",
       "      <td>Sydney</td>\n",
       "      <td>NSW</td>\n",
       "      <td>14.19</td>\n",
       "      <td>debit</td>\n",
       "    </tr>\n",
       "    <tr>\n",
       "      <th>2</th>\n",
       "      <td>CUS-2142601169</td>\n",
       "      <td>authorized</td>\n",
       "      <td>1.0</td>\n",
       "      <td>5.71</td>\n",
       "      <td>2018-08-01</td>\n",
       "      <td>M</td>\n",
       "      <td>38</td>\n",
       "      <td>Sydney</td>\n",
       "      <td>NSW</td>\n",
       "      <td>6.42</td>\n",
       "      <td>debit</td>\n",
       "    </tr>\n",
       "    <tr>\n",
       "      <th>3</th>\n",
       "      <td>CUS-1614226872</td>\n",
       "      <td>authorized</td>\n",
       "      <td>1.0</td>\n",
       "      <td>2117.22</td>\n",
       "      <td>2018-08-01</td>\n",
       "      <td>F</td>\n",
       "      <td>40</td>\n",
       "      <td>Buderim</td>\n",
       "      <td>QLD</td>\n",
       "      <td>40.90</td>\n",
       "      <td>debit</td>\n",
       "    </tr>\n",
       "    <tr>\n",
       "      <th>4</th>\n",
       "      <td>CUS-2487424745</td>\n",
       "      <td>authorized</td>\n",
       "      <td>1.0</td>\n",
       "      <td>17.95</td>\n",
       "      <td>2018-08-01</td>\n",
       "      <td>F</td>\n",
       "      <td>26</td>\n",
       "      <td>Mermaid Beach</td>\n",
       "      <td>QLD</td>\n",
       "      <td>3.25</td>\n",
       "      <td>debit</td>\n",
       "    </tr>\n",
       "  </tbody>\n",
       "</table>\n",
       "</div>"
      ],
      "text/plain": [
       "      customer_id      status  card_present_flag  balance       date gender  \\\n",
       "0  CUS-2487424745  authorized                1.0    35.39 2018-08-01      F   \n",
       "1  CUS-2487424745  authorized                0.0    21.20 2018-08-01      F   \n",
       "2  CUS-2142601169  authorized                1.0     5.71 2018-08-01      M   \n",
       "3  CUS-1614226872  authorized                1.0  2117.22 2018-08-01      F   \n",
       "4  CUS-2487424745  authorized                1.0    17.95 2018-08-01      F   \n",
       "\n",
       "   age merchant_suburb merchant_state  amount movement  \n",
       "0   26         Ashmore            QLD   16.25    debit  \n",
       "1   26          Sydney            NSW   14.19    debit  \n",
       "2   38          Sydney            NSW    6.42    debit  \n",
       "3   40         Buderim            QLD   40.90    debit  \n",
       "4   26   Mermaid Beach            QLD    3.25    debit  "
      ]
     },
     "execution_count": 13,
     "metadata": {},
     "output_type": "execute_result"
    }
   ],
   "source": [
    "df_ANZ = ANZ_df[['customer_id','status','card_present_flag','balance','date','gender','age','merchant_suburb','merchant_state','amount','movement']]\n",
    "df_ANZ.head()"
   ]
  },
  {
   "cell_type": "code",
   "execution_count": 14,
   "metadata": {},
   "outputs": [
    {
     "data": {
      "text/plain": [
       "merchant_state       4326\n",
       "merchant_suburb      4326\n",
       "card_present_flag    4326\n",
       "movement                0\n",
       "amount                  0\n",
       "age                     0\n",
       "gender                  0\n",
       "date                    0\n",
       "balance                 0\n",
       "status                  0\n",
       "customer_id             0\n",
       "dtype: int64"
      ]
     },
     "execution_count": 14,
     "metadata": {},
     "output_type": "execute_result"
    }
   ],
   "source": [
    "#knowing the number of null values in the taken relevant features\n",
    "df_ANZ.isna().sum().sort_values(ascending = False)"
   ]
  },
  {
   "cell_type": "code",
   "execution_count": 15,
   "metadata": {},
   "outputs": [
    {
     "data": {
      "text/plain": [
       "authorized    7717\n",
       "posted        4326\n",
       "Name: status, dtype: int64"
      ]
     },
     "execution_count": 15,
     "metadata": {},
     "output_type": "execute_result"
    }
   ],
   "source": [
    "#count of distinct status types\n",
    "df_ANZ['status'].value_counts()"
   ]
  },
  {
   "cell_type": "code",
   "execution_count": 88,
   "metadata": {},
   "outputs": [
    {
     "data": {
      "text/plain": [
       "Text(0.5, 1.0, 'Count of Status types')"
      ]
     },
     "execution_count": 88,
     "metadata": {},
     "output_type": "execute_result"
    },
    {
     "data": {
      "image/png": "[encoded data removed]",
      "text/plain": [
       "<Figure size 432x288 with 1 Axes>"
      ]
     },
     "metadata": {
      "needs_background": "light"
     },
     "output_type": "display_data"
    }
   ],
   "source": [
    "#count of status\n",
    "sns.countplot(df_ANZ['status'])\n",
    "plt.title('Count of Status types')"
   ]
  },
  {
   "cell_type": "code",
   "execution_count": 17,
   "metadata": {},
   "outputs": [
    {
     "data": {
      "text/plain": [
       "1.0    6194\n",
       "0.0    1523\n",
       "Name: card_present_flag, dtype: int64"
      ]
     },
     "execution_count": 17,
     "metadata": {},
     "output_type": "execute_result"
    }
   ],
   "source": [
    "#number of each card present flag\n",
    "df_ANZ['card_present_flag'].value_counts()"
   ]
  },
  {
   "cell_type": "code",
   "execution_count": 18,
   "metadata": {},
   "outputs": [
    {
     "data": {
      "text/plain": [
       "2018-09-28    174\n",
       "2018-08-17    172\n",
       "2018-10-05    168\n",
       "2018-10-17    162\n",
       "2018-09-14    161\n",
       "             ... \n",
       "2018-08-06     99\n",
       "2018-08-20     97\n",
       "2018-10-23     96\n",
       "2018-10-08     95\n",
       "2018-10-30     89\n",
       "Name: date, Length: 91, dtype: int64"
      ]
     },
     "execution_count": 18,
     "metadata": {},
     "output_type": "execute_result"
    }
   ],
   "source": [
    "df_ANZ['date'].value_counts()"
   ]
  },
  {
   "cell_type": "code",
   "execution_count": 19,
   "metadata": {},
   "outputs": [
    {
     "data": {
      "text/plain": [
       "CUS-3395687666    40\n",
       "CUS-3201519139    37\n",
       "CUS-1646183815    34\n",
       "CUS-495599312     31\n",
       "CUS-1739931018    25\n",
       "Name: customer_id, dtype: int64"
      ]
     },
     "execution_count": 19,
     "metadata": {},
     "output_type": "execute_result"
    }
   ],
   "source": [
    "df_ANZ['customer_id'].value_counts().tail()"
   ]
  },
  {
   "cell_type": "code",
   "execution_count": 20,
   "metadata": {},
   "outputs": [
    {
     "data": {
      "text/plain": [
       "25"
      ]
     },
     "execution_count": 20,
     "metadata": {},
     "output_type": "execute_result"
    }
   ],
   "source": [
    "df_ANZ['customer_id'].value_counts().min()"
   ]
  },
  {
   "cell_type": "code",
   "execution_count": 21,
   "metadata": {},
   "outputs": [],
   "source": [
    "#transforming date to month\n",
    "def transform(date):\n",
    "    if date.month == 8:\n",
    "        return 'August'\n",
    "    if date.month == 9:\n",
    "        return 'September'\n",
    "    if date.month == 10:\n",
    "        return 'October'"
   ]
  },
  {
   "cell_type": "code",
   "execution_count": 22,
   "metadata": {},
   "outputs": [
    {
     "name": "stderr",
     "output_type": "stream",
     "text": [
      "C:\\Users\\HP\\anaconda3\\lib\\site-packages\\ipykernel_launcher.py:2: SettingWithCopyWarning: \n",
      "A value is trying to be set on a copy of a slice from a DataFrame.\n",
      "Try using .loc[row_indexer,col_indexer] = value instead\n",
      "\n",
      "See the caveats in the documentation: https://pandas.pydata.org/pandas-docs/stable/user_guide/indexing.html#returning-a-view-versus-a-copy\n",
      "  \n"
     ]
    },
    {
     "data": {
      "text/html": [
       "<div>\n",
       "<style scoped>\n",
       "    .dataframe tbody tr th:only-of-type {\n",
       "        vertical-align: middle;\n",
       "    }\n",
       "\n",
       "    .dataframe tbody tr th {\n",
       "        vertical-align: top;\n",
       "    }\n",
       "\n",
       "    .dataframe thead th {\n",
       "        text-align: right;\n",
       "    }\n",
       "</style>\n",
       "<table border=\"1\" class=\"dataframe\">\n",
       "  <thead>\n",
       "    <tr style=\"text-align: right;\">\n",
       "      <th></th>\n",
       "      <th>customer_id</th>\n",
       "      <th>status</th>\n",
       "      <th>card_present_flag</th>\n",
       "      <th>balance</th>\n",
       "      <th>date</th>\n",
       "      <th>gender</th>\n",
       "      <th>age</th>\n",
       "      <th>merchant_suburb</th>\n",
       "      <th>merchant_state</th>\n",
       "      <th>amount</th>\n",
       "      <th>movement</th>\n",
       "      <th>months</th>\n",
       "    </tr>\n",
       "  </thead>\n",
       "  <tbody>\n",
       "    <tr>\n",
       "      <th>0</th>\n",
       "      <td>CUS-2487424745</td>\n",
       "      <td>authorized</td>\n",
       "      <td>1.0</td>\n",
       "      <td>35.39</td>\n",
       "      <td>2018-08-01</td>\n",
       "      <td>F</td>\n",
       "      <td>26</td>\n",
       "      <td>Ashmore</td>\n",
       "      <td>QLD</td>\n",
       "      <td>16.25</td>\n",
       "      <td>debit</td>\n",
       "      <td>August</td>\n",
       "    </tr>\n",
       "    <tr>\n",
       "      <th>1</th>\n",
       "      <td>CUS-2487424745</td>\n",
       "      <td>authorized</td>\n",
       "      <td>0.0</td>\n",
       "      <td>21.20</td>\n",
       "      <td>2018-08-01</td>\n",
       "      <td>F</td>\n",
       "      <td>26</td>\n",
       "      <td>Sydney</td>\n",
       "      <td>NSW</td>\n",
       "      <td>14.19</td>\n",
       "      <td>debit</td>\n",
       "      <td>August</td>\n",
       "    </tr>\n",
       "    <tr>\n",
       "      <th>2</th>\n",
       "      <td>CUS-2142601169</td>\n",
       "      <td>authorized</td>\n",
       "      <td>1.0</td>\n",
       "      <td>5.71</td>\n",
       "      <td>2018-08-01</td>\n",
       "      <td>M</td>\n",
       "      <td>38</td>\n",
       "      <td>Sydney</td>\n",
       "      <td>NSW</td>\n",
       "      <td>6.42</td>\n",
       "      <td>debit</td>\n",
       "      <td>August</td>\n",
       "    </tr>\n",
       "    <tr>\n",
       "      <th>3</th>\n",
       "      <td>CUS-1614226872</td>\n",
       "      <td>authorized</td>\n",
       "      <td>1.0</td>\n",
       "      <td>2117.22</td>\n",
       "      <td>2018-08-01</td>\n",
       "      <td>F</td>\n",
       "      <td>40</td>\n",
       "      <td>Buderim</td>\n",
       "      <td>QLD</td>\n",
       "      <td>40.90</td>\n",
       "      <td>debit</td>\n",
       "      <td>August</td>\n",
       "    </tr>\n",
       "    <tr>\n",
       "      <th>4</th>\n",
       "      <td>CUS-2487424745</td>\n",
       "      <td>authorized</td>\n",
       "      <td>1.0</td>\n",
       "      <td>17.95</td>\n",
       "      <td>2018-08-01</td>\n",
       "      <td>F</td>\n",
       "      <td>26</td>\n",
       "      <td>Mermaid Beach</td>\n",
       "      <td>QLD</td>\n",
       "      <td>3.25</td>\n",
       "      <td>debit</td>\n",
       "      <td>August</td>\n",
       "    </tr>\n",
       "  </tbody>\n",
       "</table>\n",
       "</div>"
      ],
      "text/plain": [
       "      customer_id      status  card_present_flag  balance       date gender  \\\n",
       "0  CUS-2487424745  authorized                1.0    35.39 2018-08-01      F   \n",
       "1  CUS-2487424745  authorized                0.0    21.20 2018-08-01      F   \n",
       "2  CUS-2142601169  authorized                1.0     5.71 2018-08-01      M   \n",
       "3  CUS-1614226872  authorized                1.0  2117.22 2018-08-01      F   \n",
       "4  CUS-2487424745  authorized                1.0    17.95 2018-08-01      F   \n",
       "\n",
       "   age merchant_suburb merchant_state  amount movement  months  \n",
       "0   26         Ashmore            QLD   16.25    debit  August  \n",
       "1   26          Sydney            NSW   14.19    debit  August  \n",
       "2   38          Sydney            NSW    6.42    debit  August  \n",
       "3   40         Buderim            QLD   40.90    debit  August  \n",
       "4   26   Mermaid Beach            QLD    3.25    debit  August  "
      ]
     },
     "execution_count": 22,
     "metadata": {},
     "output_type": "execute_result"
    }
   ],
   "source": [
    "#apply the transformation to the dataframe\n",
    "df_ANZ['months'] = df_ANZ['date'].apply(transform)\n",
    "df_ANZ.head()"
   ]
  },
  {
   "cell_type": "code",
   "execution_count": 23,
   "metadata": {},
   "outputs": [
    {
     "data": {
      "text/html": [
       "<div>\n",
       "<style scoped>\n",
       "    .dataframe tbody tr th:only-of-type {\n",
       "        vertical-align: middle;\n",
       "    }\n",
       "\n",
       "    .dataframe tbody tr th {\n",
       "        vertical-align: top;\n",
       "    }\n",
       "\n",
       "    .dataframe thead th {\n",
       "        text-align: right;\n",
       "    }\n",
       "</style>\n",
       "<table border=\"1\" class=\"dataframe\">\n",
       "  <thead>\n",
       "    <tr style=\"text-align: right;\">\n",
       "      <th></th>\n",
       "      <th>customer_id</th>\n",
       "      <th>status</th>\n",
       "      <th>card_present_flag</th>\n",
       "      <th>balance</th>\n",
       "      <th>date</th>\n",
       "      <th>gender</th>\n",
       "      <th>age</th>\n",
       "      <th>merchant_suburb</th>\n",
       "      <th>merchant_state</th>\n",
       "      <th>amount</th>\n",
       "      <th>movement</th>\n",
       "      <th>months</th>\n",
       "    </tr>\n",
       "  </thead>\n",
       "  <tbody>\n",
       "    <tr>\n",
       "      <th>10000</th>\n",
       "      <td>CUS-809013380</td>\n",
       "      <td>posted</td>\n",
       "      <td>NaN</td>\n",
       "      <td>8137.06</td>\n",
       "      <td>2018-10-16</td>\n",
       "      <td>F</td>\n",
       "      <td>21</td>\n",
       "      <td>NaN</td>\n",
       "      <td>NaN</td>\n",
       "      <td>1037.07</td>\n",
       "      <td>credit</td>\n",
       "      <td>October</td>\n",
       "    </tr>\n",
       "    <tr>\n",
       "      <th>10001</th>\n",
       "      <td>CUS-860700529</td>\n",
       "      <td>posted</td>\n",
       "      <td>NaN</td>\n",
       "      <td>4659.84</td>\n",
       "      <td>2018-10-16</td>\n",
       "      <td>M</td>\n",
       "      <td>30</td>\n",
       "      <td>NaN</td>\n",
       "      <td>NaN</td>\n",
       "      <td>165.00</td>\n",
       "      <td>debit</td>\n",
       "      <td>October</td>\n",
       "    </tr>\n",
       "    <tr>\n",
       "      <th>10002</th>\n",
       "      <td>CUS-1196156254</td>\n",
       "      <td>authorized</td>\n",
       "      <td>1.0</td>\n",
       "      <td>27866.77</td>\n",
       "      <td>2018-10-16</td>\n",
       "      <td>F</td>\n",
       "      <td>34</td>\n",
       "      <td>Lidcombe</td>\n",
       "      <td>NSW</td>\n",
       "      <td>33.89</td>\n",
       "      <td>debit</td>\n",
       "      <td>October</td>\n",
       "    </tr>\n",
       "    <tr>\n",
       "      <th>10003</th>\n",
       "      <td>CUS-860700529</td>\n",
       "      <td>authorized</td>\n",
       "      <td>1.0</td>\n",
       "      <td>4824.84</td>\n",
       "      <td>2018-10-16</td>\n",
       "      <td>M</td>\n",
       "      <td>30</td>\n",
       "      <td>Woolloongabba</td>\n",
       "      <td>QLD</td>\n",
       "      <td>141.15</td>\n",
       "      <td>debit</td>\n",
       "      <td>October</td>\n",
       "    </tr>\n",
       "    <tr>\n",
       "      <th>10004</th>\n",
       "      <td>CUS-1669695324</td>\n",
       "      <td>posted</td>\n",
       "      <td>NaN</td>\n",
       "      <td>7343.76</td>\n",
       "      <td>2018-10-16</td>\n",
       "      <td>F</td>\n",
       "      <td>25</td>\n",
       "      <td>NaN</td>\n",
       "      <td>NaN</td>\n",
       "      <td>32.00</td>\n",
       "      <td>debit</td>\n",
       "      <td>October</td>\n",
       "    </tr>\n",
       "    <tr>\n",
       "      <th>10005</th>\n",
       "      <td>CUS-2206365095</td>\n",
       "      <td>authorized</td>\n",
       "      <td>1.0</td>\n",
       "      <td>21075.33</td>\n",
       "      <td>2018-10-16</td>\n",
       "      <td>F</td>\n",
       "      <td>38</td>\n",
       "      <td>Brunswick East</td>\n",
       "      <td>VIC</td>\n",
       "      <td>23.21</td>\n",
       "      <td>debit</td>\n",
       "      <td>October</td>\n",
       "    </tr>\n",
       "    <tr>\n",
       "      <th>10006</th>\n",
       "      <td>CUS-2695611575</td>\n",
       "      <td>authorized</td>\n",
       "      <td>0.0</td>\n",
       "      <td>1745.27</td>\n",
       "      <td>2018-10-16</td>\n",
       "      <td>M</td>\n",
       "      <td>37</td>\n",
       "      <td>Aratula</td>\n",
       "      <td>QLD</td>\n",
       "      <td>18.20</td>\n",
       "      <td>debit</td>\n",
       "      <td>October</td>\n",
       "    </tr>\n",
       "    <tr>\n",
       "      <th>10007</th>\n",
       "      <td>CUS-2695611575</td>\n",
       "      <td>authorized</td>\n",
       "      <td>1.0</td>\n",
       "      <td>1724.74</td>\n",
       "      <td>2018-10-16</td>\n",
       "      <td>M</td>\n",
       "      <td>37</td>\n",
       "      <td>Southport</td>\n",
       "      <td>QLD</td>\n",
       "      <td>20.53</td>\n",
       "      <td>debit</td>\n",
       "      <td>October</td>\n",
       "    </tr>\n",
       "    <tr>\n",
       "      <th>10008</th>\n",
       "      <td>CUS-1005756958</td>\n",
       "      <td>posted</td>\n",
       "      <td>NaN</td>\n",
       "      <td>7835.09</td>\n",
       "      <td>2018-10-16</td>\n",
       "      <td>F</td>\n",
       "      <td>53</td>\n",
       "      <td>NaN</td>\n",
       "      <td>NaN</td>\n",
       "      <td>970.47</td>\n",
       "      <td>credit</td>\n",
       "      <td>October</td>\n",
       "    </tr>\n",
       "    <tr>\n",
       "      <th>10009</th>\n",
       "      <td>CUS-3151318058</td>\n",
       "      <td>posted</td>\n",
       "      <td>NaN</td>\n",
       "      <td>42287.02</td>\n",
       "      <td>2018-10-16</td>\n",
       "      <td>M</td>\n",
       "      <td>42</td>\n",
       "      <td>NaN</td>\n",
       "      <td>NaN</td>\n",
       "      <td>1757.82</td>\n",
       "      <td>credit</td>\n",
       "      <td>October</td>\n",
       "    </tr>\n",
       "    <tr>\n",
       "      <th>10010</th>\n",
       "      <td>CUS-3249305314</td>\n",
       "      <td>posted</td>\n",
       "      <td>NaN</td>\n",
       "      <td>43320.09</td>\n",
       "      <td>2018-10-16</td>\n",
       "      <td>M</td>\n",
       "      <td>38</td>\n",
       "      <td>NaN</td>\n",
       "      <td>NaN</td>\n",
       "      <td>122.00</td>\n",
       "      <td>debit</td>\n",
       "      <td>October</td>\n",
       "    </tr>\n",
       "    <tr>\n",
       "      <th>10011</th>\n",
       "      <td>CUS-3989008654</td>\n",
       "      <td>posted</td>\n",
       "      <td>NaN</td>\n",
       "      <td>12219.58</td>\n",
       "      <td>2018-10-16</td>\n",
       "      <td>M</td>\n",
       "      <td>25</td>\n",
       "      <td>NaN</td>\n",
       "      <td>NaN</td>\n",
       "      <td>46.00</td>\n",
       "      <td>debit</td>\n",
       "      <td>October</td>\n",
       "    </tr>\n",
       "    <tr>\n",
       "      <th>10012</th>\n",
       "      <td>CUS-527400765</td>\n",
       "      <td>posted</td>\n",
       "      <td>NaN</td>\n",
       "      <td>205924.63</td>\n",
       "      <td>2018-10-16</td>\n",
       "      <td>F</td>\n",
       "      <td>40</td>\n",
       "      <td>NaN</td>\n",
       "      <td>NaN</td>\n",
       "      <td>127.00</td>\n",
       "      <td>debit</td>\n",
       "      <td>October</td>\n",
       "    </tr>\n",
       "    <tr>\n",
       "      <th>10013</th>\n",
       "      <td>CUS-2370108457</td>\n",
       "      <td>authorized</td>\n",
       "      <td>0.0</td>\n",
       "      <td>265903.69</td>\n",
       "      <td>2018-10-16</td>\n",
       "      <td>M</td>\n",
       "      <td>46</td>\n",
       "      <td>Hawthorn</td>\n",
       "      <td>VIC</td>\n",
       "      <td>67.93</td>\n",
       "      <td>debit</td>\n",
       "      <td>October</td>\n",
       "    </tr>\n",
       "    <tr>\n",
       "      <th>10014</th>\n",
       "      <td>CUS-1892177589</td>\n",
       "      <td>authorized</td>\n",
       "      <td>0.0</td>\n",
       "      <td>9992.30</td>\n",
       "      <td>2018-10-16</td>\n",
       "      <td>M</td>\n",
       "      <td>44</td>\n",
       "      <td>Blackburn</td>\n",
       "      <td>VIC</td>\n",
       "      <td>33.42</td>\n",
       "      <td>debit</td>\n",
       "      <td>October</td>\n",
       "    </tr>\n",
       "    <tr>\n",
       "      <th>10015</th>\n",
       "      <td>CUS-1892177589</td>\n",
       "      <td>posted</td>\n",
       "      <td>NaN</td>\n",
       "      <td>9965.30</td>\n",
       "      <td>2018-10-16</td>\n",
       "      <td>M</td>\n",
       "      <td>44</td>\n",
       "      <td>NaN</td>\n",
       "      <td>NaN</td>\n",
       "      <td>27.00</td>\n",
       "      <td>debit</td>\n",
       "      <td>October</td>\n",
       "    </tr>\n",
       "    <tr>\n",
       "      <th>10016</th>\n",
       "      <td>CUS-2142601169</td>\n",
       "      <td>posted</td>\n",
       "      <td>NaN</td>\n",
       "      <td>2245.02</td>\n",
       "      <td>2018-10-16</td>\n",
       "      <td>M</td>\n",
       "      <td>38</td>\n",
       "      <td>NaN</td>\n",
       "      <td>NaN</td>\n",
       "      <td>1002.13</td>\n",
       "      <td>credit</td>\n",
       "      <td>October</td>\n",
       "    </tr>\n",
       "    <tr>\n",
       "      <th>10017</th>\n",
       "      <td>CUS-2630892467</td>\n",
       "      <td>posted</td>\n",
       "      <td>NaN</td>\n",
       "      <td>10280.35</td>\n",
       "      <td>2018-10-16</td>\n",
       "      <td>F</td>\n",
       "      <td>26</td>\n",
       "      <td>NaN</td>\n",
       "      <td>NaN</td>\n",
       "      <td>164.00</td>\n",
       "      <td>debit</td>\n",
       "      <td>October</td>\n",
       "    </tr>\n",
       "    <tr>\n",
       "      <th>10018</th>\n",
       "      <td>CUS-3325710106</td>\n",
       "      <td>posted</td>\n",
       "      <td>NaN</td>\n",
       "      <td>6820.47</td>\n",
       "      <td>2018-10-16</td>\n",
       "      <td>M</td>\n",
       "      <td>20</td>\n",
       "      <td>NaN</td>\n",
       "      <td>NaN</td>\n",
       "      <td>1099.70</td>\n",
       "      <td>credit</td>\n",
       "      <td>October</td>\n",
       "    </tr>\n",
       "    <tr>\n",
       "      <th>10019</th>\n",
       "      <td>CUS-3716701010</td>\n",
       "      <td>posted</td>\n",
       "      <td>NaN</td>\n",
       "      <td>8677.01</td>\n",
       "      <td>2018-10-16</td>\n",
       "      <td>F</td>\n",
       "      <td>47</td>\n",
       "      <td>NaN</td>\n",
       "      <td>NaN</td>\n",
       "      <td>1272.47</td>\n",
       "      <td>credit</td>\n",
       "      <td>October</td>\n",
       "    </tr>\n",
       "  </tbody>\n",
       "</table>\n",
       "</div>"
      ],
      "text/plain": [
       "          customer_id      status  card_present_flag    balance       date  \\\n",
       "10000   CUS-809013380      posted                NaN    8137.06 2018-10-16   \n",
       "10001   CUS-860700529      posted                NaN    4659.84 2018-10-16   \n",
       "10002  CUS-1196156254  authorized                1.0   27866.77 2018-10-16   \n",
       "10003   CUS-860700529  authorized                1.0    4824.84 2018-10-16   \n",
       "10004  CUS-1669695324      posted                NaN    7343.76 2018-10-16   \n",
       "10005  CUS-2206365095  authorized                1.0   21075.33 2018-10-16   \n",
       "10006  CUS-2695611575  authorized                0.0    1745.27 2018-10-16   \n",
       "10007  CUS-2695611575  authorized                1.0    1724.74 2018-10-16   \n",
       "10008  CUS-1005756958      posted                NaN    7835.09 2018-10-16   \n",
       "10009  CUS-3151318058      posted                NaN   42287.02 2018-10-16   \n",
       "10010  CUS-3249305314      posted                NaN   43320.09 2018-10-16   \n",
       "10011  CUS-3989008654      posted                NaN   12219.58 2018-10-16   \n",
       "10012   CUS-527400765      posted                NaN  205924.63 2018-10-16   \n",
       "10013  CUS-2370108457  authorized                0.0  265903.69 2018-10-16   \n",
       "10014  CUS-1892177589  authorized                0.0    9992.30 2018-10-16   \n",
       "10015  CUS-1892177589      posted                NaN    9965.30 2018-10-16   \n",
       "10016  CUS-2142601169      posted                NaN    2245.02 2018-10-16   \n",
       "10017  CUS-2630892467      posted                NaN   10280.35 2018-10-16   \n",
       "10018  CUS-3325710106      posted                NaN    6820.47 2018-10-16   \n",
       "10019  CUS-3716701010      posted                NaN    8677.01 2018-10-16   \n",
       "\n",
       "      gender  age merchant_suburb merchant_state   amount movement   months  \n",
       "10000      F   21             NaN            NaN  1037.07   credit  October  \n",
       "10001      M   30             NaN            NaN   165.00    debit  October  \n",
       "10002      F   34        Lidcombe            NSW    33.89    debit  October  \n",
       "10003      M   30   Woolloongabba            QLD   141.15    debit  October  \n",
       "10004      F   25             NaN            NaN    32.00    debit  October  \n",
       "10005      F   38  Brunswick East            VIC    23.21    debit  October  \n",
       "10006      M   37         Aratula            QLD    18.20    debit  October  \n",
       "10007      M   37       Southport            QLD    20.53    debit  October  \n",
       "10008      F   53             NaN            NaN   970.47   credit  October  \n",
       "10009      M   42             NaN            NaN  1757.82   credit  October  \n",
       "10010      M   38             NaN            NaN   122.00    debit  October  \n",
       "10011      M   25             NaN            NaN    46.00    debit  October  \n",
       "10012      F   40             NaN            NaN   127.00    debit  October  \n",
       "10013      M   46        Hawthorn            VIC    67.93    debit  October  \n",
       "10014      M   44       Blackburn            VIC    33.42    debit  October  \n",
       "10015      M   44             NaN            NaN    27.00    debit  October  \n",
       "10016      M   38             NaN            NaN  1002.13   credit  October  \n",
       "10017      F   26             NaN            NaN   164.00    debit  October  \n",
       "10018      M   20             NaN            NaN  1099.70   credit  October  \n",
       "10019      F   47             NaN            NaN  1272.47   credit  October  "
      ]
     },
     "execution_count": 23,
     "metadata": {},
     "output_type": "execute_result"
    }
   ],
   "source": [
    "df_ANZ[10000:10020]"
   ]
  },
  {
   "cell_type": "code",
   "execution_count": 24,
   "metadata": {},
   "outputs": [
    {
     "data": {
      "text/plain": [
       "array([[<matplotlib.axes._subplots.AxesSubplot object at 0x000002B5E47BEC88>,\n",
       "        <matplotlib.axes._subplots.AxesSubplot object at 0x000002B5E45C9608>],\n",
       "       [<matplotlib.axes._subplots.AxesSubplot object at 0x000002B5E45E5DC8>,\n",
       "        <matplotlib.axes._subplots.AxesSubplot object at 0x000002B5E4605B48>]],\n",
       "      dtype=object)"
      ]
     },
     "execution_count": 24,
     "metadata": {},
     "output_type": "execute_result"
    },
    {
     "data": {
      "image/png": "[encoded data removed]",
      "text/plain": [
       "<Figure size 432x432 with 4 Axes>"
      ]
     },
     "metadata": {
      "needs_background": "light"
     },
     "output_type": "display_data"
    }
   ],
   "source": [
    "df_ANZ.hist(figsize = (6, 6))"
   ]
  },
  {
   "cell_type": "code",
   "execution_count": 25,
   "metadata": {},
   "outputs": [
    {
     "data": {
      "text/plain": [
       "<matplotlib.legend.Legend at 0x2b5e473a308>"
      ]
     },
     "execution_count": 25,
     "metadata": {},
     "output_type": "execute_result"
    },
    {
     "data": {
      "image/png": "[encoded data removed]",
      "text/plain": [
       "<Figure size 432x288 with 1 Axes>"
      ]
     },
     "metadata": {
      "needs_background": "light"
     },
     "output_type": "display_data"
    }
   ],
   "source": [
    "#dist plot of age\n",
    "sns.distplot(df_ANZ['age'], color='blue')\n",
    "plt.axvline(x = np.mean(df_ANZ['age']), c='red', label='mean')\n",
    "plt.axvline(x = np.percentile(df_ANZ['age'], 25), c='black', ls='--', label='25th percentile')\n",
    "plt.axvline(x = np.percentile(df_ANZ['age'], 50), c='g', ls='--', label = '50th percentile')\n",
    "plt.axvline(x = np.percentile(df_ANZ['age'], 75), c='brown', ls='--', label='75th percentile')\n",
    "plt.legend()"
   ]
  },
  {
   "cell_type": "code",
   "execution_count": 26,
   "metadata": {},
   "outputs": [
    {
     "data": {
      "text/html": [
       "<div>\n",
       "<style scoped>\n",
       "    .dataframe tbody tr th:only-of-type {\n",
       "        vertical-align: middle;\n",
       "    }\n",
       "\n",
       "    .dataframe tbody tr th {\n",
       "        vertical-align: top;\n",
       "    }\n",
       "\n",
       "    .dataframe thead th {\n",
       "        text-align: right;\n",
       "    }\n",
       "</style>\n",
       "<table border=\"1\" class=\"dataframe\">\n",
       "  <thead>\n",
       "    <tr style=\"text-align: right;\">\n",
       "      <th></th>\n",
       "      <th>card_present_flag</th>\n",
       "      <th>balance</th>\n",
       "      <th>age</th>\n",
       "      <th>amount</th>\n",
       "    </tr>\n",
       "    <tr>\n",
       "      <th>months</th>\n",
       "      <th></th>\n",
       "      <th></th>\n",
       "      <th></th>\n",
       "      <th></th>\n",
       "    </tr>\n",
       "  </thead>\n",
       "  <tbody>\n",
       "    <tr>\n",
       "      <th>August</th>\n",
       "      <td>0.805128</td>\n",
       "      <td>10794.148620</td>\n",
       "      <td>30.482881</td>\n",
       "      <td>185.121867</td>\n",
       "    </tr>\n",
       "    <tr>\n",
       "      <th>October</th>\n",
       "      <td>0.803565</td>\n",
       "      <td>18450.991566</td>\n",
       "      <td>30.726205</td>\n",
       "      <td>196.427323</td>\n",
       "    </tr>\n",
       "    <tr>\n",
       "      <th>September</th>\n",
       "      <td>0.799308</td>\n",
       "      <td>14730.151136</td>\n",
       "      <td>30.533516</td>\n",
       "      <td>182.045903</td>\n",
       "    </tr>\n",
       "  </tbody>\n",
       "</table>\n",
       "</div>"
      ],
      "text/plain": [
       "           card_present_flag       balance        age      amount\n",
       "months                                                           \n",
       "August              0.805128  10794.148620  30.482881  185.121867\n",
       "October             0.803565  18450.991566  30.726205  196.427323\n",
       "September           0.799308  14730.151136  30.533516  182.045903"
      ]
     },
     "execution_count": 26,
     "metadata": {},
     "output_type": "execute_result"
    }
   ],
   "source": [
    "#grouping the dataset by month\n",
    "df_ANZ.groupby('months').mean()"
   ]
  },
  {
   "cell_type": "code",
   "execution_count": 27,
   "metadata": {},
   "outputs": [
    {
     "data": {
      "text/plain": [
       "October      4087\n",
       "September    4013\n",
       "August       3943\n",
       "Name: months, dtype: int64"
      ]
     },
     "execution_count": 27,
     "metadata": {},
     "output_type": "execute_result"
    }
   ],
   "source": [
    "df_ANZ['months'].value_counts()"
   ]
  },
  {
   "cell_type": "code",
   "execution_count": 28,
   "metadata": {},
   "outputs": [
    {
     "data": {
      "text/html": [
       "<div>\n",
       "<style scoped>\n",
       "    .dataframe tbody tr th:only-of-type {\n",
       "        vertical-align: middle;\n",
       "    }\n",
       "\n",
       "    .dataframe tbody tr th {\n",
       "        vertical-align: top;\n",
       "    }\n",
       "\n",
       "    .dataframe thead th {\n",
       "        text-align: right;\n",
       "    }\n",
       "</style>\n",
       "<table border=\"1\" class=\"dataframe\">\n",
       "  <thead>\n",
       "    <tr style=\"text-align: right;\">\n",
       "      <th></th>\n",
       "      <th>customer_id</th>\n",
       "      <th>status</th>\n",
       "      <th>card_present_flag</th>\n",
       "      <th>balance</th>\n",
       "      <th>gender</th>\n",
       "      <th>age</th>\n",
       "      <th>merchant_suburb</th>\n",
       "      <th>merchant_state</th>\n",
       "      <th>amount</th>\n",
       "      <th>movement</th>\n",
       "      <th>months</th>\n",
       "    </tr>\n",
       "    <tr>\n",
       "      <th>date</th>\n",
       "      <th></th>\n",
       "      <th></th>\n",
       "      <th></th>\n",
       "      <th></th>\n",
       "      <th></th>\n",
       "      <th></th>\n",
       "      <th></th>\n",
       "      <th></th>\n",
       "      <th></th>\n",
       "      <th></th>\n",
       "      <th></th>\n",
       "    </tr>\n",
       "  </thead>\n",
       "  <tbody>\n",
       "    <tr>\n",
       "      <th>2018-08-01</th>\n",
       "      <td>137</td>\n",
       "      <td>137</td>\n",
       "      <td>84</td>\n",
       "      <td>137</td>\n",
       "      <td>137</td>\n",
       "      <td>137</td>\n",
       "      <td>84</td>\n",
       "      <td>84</td>\n",
       "      <td>137</td>\n",
       "      <td>137</td>\n",
       "      <td>137</td>\n",
       "    </tr>\n",
       "    <tr>\n",
       "      <th>2018-08-02</th>\n",
       "      <td>152</td>\n",
       "      <td>152</td>\n",
       "      <td>99</td>\n",
       "      <td>152</td>\n",
       "      <td>152</td>\n",
       "      <td>152</td>\n",
       "      <td>99</td>\n",
       "      <td>99</td>\n",
       "      <td>152</td>\n",
       "      <td>152</td>\n",
       "      <td>152</td>\n",
       "    </tr>\n",
       "    <tr>\n",
       "      <th>2018-08-03</th>\n",
       "      <td>157</td>\n",
       "      <td>157</td>\n",
       "      <td>99</td>\n",
       "      <td>157</td>\n",
       "      <td>157</td>\n",
       "      <td>157</td>\n",
       "      <td>99</td>\n",
       "      <td>99</td>\n",
       "      <td>157</td>\n",
       "      <td>157</td>\n",
       "      <td>157</td>\n",
       "    </tr>\n",
       "    <tr>\n",
       "      <th>2018-08-04</th>\n",
       "      <td>118</td>\n",
       "      <td>118</td>\n",
       "      <td>94</td>\n",
       "      <td>118</td>\n",
       "      <td>118</td>\n",
       "      <td>118</td>\n",
       "      <td>94</td>\n",
       "      <td>94</td>\n",
       "      <td>118</td>\n",
       "      <td>118</td>\n",
       "      <td>118</td>\n",
       "    </tr>\n",
       "    <tr>\n",
       "      <th>2018-08-05</th>\n",
       "      <td>100</td>\n",
       "      <td>100</td>\n",
       "      <td>73</td>\n",
       "      <td>100</td>\n",
       "      <td>100</td>\n",
       "      <td>100</td>\n",
       "      <td>73</td>\n",
       "      <td>73</td>\n",
       "      <td>100</td>\n",
       "      <td>100</td>\n",
       "      <td>100</td>\n",
       "    </tr>\n",
       "    <tr>\n",
       "      <th>...</th>\n",
       "      <td>...</td>\n",
       "      <td>...</td>\n",
       "      <td>...</td>\n",
       "      <td>...</td>\n",
       "      <td>...</td>\n",
       "      <td>...</td>\n",
       "      <td>...</td>\n",
       "      <td>...</td>\n",
       "      <td>...</td>\n",
       "      <td>...</td>\n",
       "      <td>...</td>\n",
       "    </tr>\n",
       "    <tr>\n",
       "      <th>2018-10-27</th>\n",
       "      <td>139</td>\n",
       "      <td>139</td>\n",
       "      <td>101</td>\n",
       "      <td>139</td>\n",
       "      <td>139</td>\n",
       "      <td>139</td>\n",
       "      <td>101</td>\n",
       "      <td>101</td>\n",
       "      <td>139</td>\n",
       "      <td>139</td>\n",
       "      <td>139</td>\n",
       "    </tr>\n",
       "    <tr>\n",
       "      <th>2018-10-28</th>\n",
       "      <td>143</td>\n",
       "      <td>143</td>\n",
       "      <td>101</td>\n",
       "      <td>143</td>\n",
       "      <td>143</td>\n",
       "      <td>143</td>\n",
       "      <td>101</td>\n",
       "      <td>101</td>\n",
       "      <td>143</td>\n",
       "      <td>143</td>\n",
       "      <td>143</td>\n",
       "    </tr>\n",
       "    <tr>\n",
       "      <th>2018-10-29</th>\n",
       "      <td>102</td>\n",
       "      <td>102</td>\n",
       "      <td>63</td>\n",
       "      <td>102</td>\n",
       "      <td>102</td>\n",
       "      <td>102</td>\n",
       "      <td>63</td>\n",
       "      <td>63</td>\n",
       "      <td>102</td>\n",
       "      <td>102</td>\n",
       "      <td>102</td>\n",
       "    </tr>\n",
       "    <tr>\n",
       "      <th>2018-10-30</th>\n",
       "      <td>89</td>\n",
       "      <td>89</td>\n",
       "      <td>50</td>\n",
       "      <td>89</td>\n",
       "      <td>89</td>\n",
       "      <td>89</td>\n",
       "      <td>50</td>\n",
       "      <td>50</td>\n",
       "      <td>89</td>\n",
       "      <td>89</td>\n",
       "      <td>89</td>\n",
       "    </tr>\n",
       "    <tr>\n",
       "      <th>2018-10-31</th>\n",
       "      <td>141</td>\n",
       "      <td>141</td>\n",
       "      <td>93</td>\n",
       "      <td>141</td>\n",
       "      <td>141</td>\n",
       "      <td>141</td>\n",
       "      <td>93</td>\n",
       "      <td>93</td>\n",
       "      <td>141</td>\n",
       "      <td>141</td>\n",
       "      <td>141</td>\n",
       "    </tr>\n",
       "  </tbody>\n",
       "</table>\n",
       "<p>91 rows × 11 columns</p>\n",
       "</div>"
      ],
      "text/plain": [
       "            customer_id  status  card_present_flag  balance  gender  age  \\\n",
       "date                                                                       \n",
       "2018-08-01          137     137                 84      137     137  137   \n",
       "2018-08-02          152     152                 99      152     152  152   \n",
       "2018-08-03          157     157                 99      157     157  157   \n",
       "2018-08-04          118     118                 94      118     118  118   \n",
       "2018-08-05          100     100                 73      100     100  100   \n",
       "...                 ...     ...                ...      ...     ...  ...   \n",
       "2018-10-27          139     139                101      139     139  139   \n",
       "2018-10-28          143     143                101      143     143  143   \n",
       "2018-10-29          102     102                 63      102     102  102   \n",
       "2018-10-30           89      89                 50       89      89   89   \n",
       "2018-10-31          141     141                 93      141     141  141   \n",
       "\n",
       "            merchant_suburb  merchant_state  amount  movement  months  \n",
       "date                                                                   \n",
       "2018-08-01               84              84     137       137     137  \n",
       "2018-08-02               99              99     152       152     152  \n",
       "2018-08-03               99              99     157       157     157  \n",
       "2018-08-04               94              94     118       118     118  \n",
       "2018-08-05               73              73     100       100     100  \n",
       "...                     ...             ...     ...       ...     ...  \n",
       "2018-10-27              101             101     139       139     139  \n",
       "2018-10-28              101             101     143       143     143  \n",
       "2018-10-29               63              63     102       102     102  \n",
       "2018-10-30               50              50      89        89      89  \n",
       "2018-10-31               93              93     141       141     141  \n",
       "\n",
       "[91 rows x 11 columns]"
      ]
     },
     "execution_count": 28,
     "metadata": {},
     "output_type": "execute_result"
    }
   ],
   "source": [
    "date_count = df_ANZ.groupby('date').count()\n",
    "date_count"
   ]
  },
  {
   "cell_type": "code",
   "execution_count": 29,
   "metadata": {},
   "outputs": [
    {
     "data": {
      "text/plain": [
       "132.34065934065933"
      ]
     },
     "execution_count": 29,
     "metadata": {},
     "output_type": "execute_result"
    }
   ],
   "source": [
    "tran_volume = date_count['customer_id'].mean()\n",
    "tran_volume"
   ]
  },
  {
   "cell_type": "code",
   "execution_count": 30,
   "metadata": {},
   "outputs": [
    {
     "data": {
      "text/plain": [
       "91"
      ]
     },
     "execution_count": 30,
     "metadata": {},
     "output_type": "execute_result"
    }
   ],
   "source": [
    "length = len(date_count.index)\n",
    "length"
   ]
  },
  {
   "cell_type": "markdown",
   "metadata": {},
   "source": [
    "### Each days transaction volume made by customers"
   ]
  },
  {
   "cell_type": "code",
   "execution_count": 31,
   "metadata": {},
   "outputs": [],
   "source": [
    "#plt.figure()\n",
    "#plt.plot(date_count.index, date_count['customer_id'], c='red', label='Customer ID')\n",
    "#plt.plot(date_count.index, np.linspace(tran_volume,tran_volume,length), color = 'black', label= 'mean transaction volume')\n",
    "#plt.title('ANZ Transaction Volume')\n",
    "#plt.ylabel('Number of Customers')\n",
    "#plt.xlabel('Date')\n",
    "#plt.legend()\n",
    "#plt.tight_layout()\n",
    "#plt.show()"
   ]
  },
  {
   "cell_type": "code",
   "execution_count": 32,
   "metadata": {},
   "outputs": [
    {
     "data": {
      "text/plain": [
       "Text(0.5, 1, 'ANZ Transaction Volume')"
      ]
     },
     "execution_count": 32,
     "metadata": {},
     "output_type": "execute_result"
    },
    {
     "data": {
      "image/png": "[encoded data removed]",
      "text/plain": [
       "<Figure size 432x288 with 1 Axes>"
      ]
     },
     "metadata": {
      "needs_background": "light"
     },
     "output_type": "display_data"
    }
   ],
   "source": [
    "sns.lineplot(x = df_ANZ.groupby('date').mean().index, y=df_ANZ.groupby('date').count()['customer_id'], color='red', label='Customer ID')\n",
    "#plt.axvline(x = np.mean(df_ANZ['age']), c='red', label='mean')\n",
    "plt.plot(date_count.index, np.linspace(tran_volume,tran_volume,length), color = 'black', label= 'mean transaction volume')\n",
    "plt.legend()\n",
    "plt.tight_layout()\n",
    "plt.title('ANZ Transaction Volume')"
   ]
  },
  {
   "cell_type": "code",
   "execution_count": 33,
   "metadata": {},
   "outputs": [
    {
     "data": {
      "text/html": [
       "<div>\n",
       "<style scoped>\n",
       "    .dataframe tbody tr th:only-of-type {\n",
       "        vertical-align: middle;\n",
       "    }\n",
       "\n",
       "    .dataframe tbody tr th {\n",
       "        vertical-align: top;\n",
       "    }\n",
       "\n",
       "    .dataframe thead th {\n",
       "        text-align: right;\n",
       "    }\n",
       "</style>\n",
       "<table border=\"1\" class=\"dataframe\">\n",
       "  <thead>\n",
       "    <tr style=\"text-align: right;\">\n",
       "      <th></th>\n",
       "      <th>card_present_flag</th>\n",
       "      <th>balance</th>\n",
       "      <th>age</th>\n",
       "      <th>amount</th>\n",
       "    </tr>\n",
       "    <tr>\n",
       "      <th>date</th>\n",
       "      <th></th>\n",
       "      <th></th>\n",
       "      <th></th>\n",
       "      <th></th>\n",
       "    </tr>\n",
       "  </thead>\n",
       "  <tbody>\n",
       "    <tr>\n",
       "      <th>2018-08-01</th>\n",
       "      <td>0.750000</td>\n",
       "      <td>9933.975328</td>\n",
       "      <td>30.233577</td>\n",
       "      <td>218.014161</td>\n",
       "    </tr>\n",
       "    <tr>\n",
       "      <th>2018-08-02</th>\n",
       "      <td>0.858586</td>\n",
       "      <td>13963.617895</td>\n",
       "      <td>31.493421</td>\n",
       "      <td>143.331053</td>\n",
       "    </tr>\n",
       "    <tr>\n",
       "      <th>2018-08-03</th>\n",
       "      <td>0.797980</td>\n",
       "      <td>10187.786688</td>\n",
       "      <td>31.751592</td>\n",
       "      <td>242.653376</td>\n",
       "    </tr>\n",
       "    <tr>\n",
       "      <th>2018-08-04</th>\n",
       "      <td>0.787234</td>\n",
       "      <td>8206.809407</td>\n",
       "      <td>31.033898</td>\n",
       "      <td>53.356356</td>\n",
       "    </tr>\n",
       "    <tr>\n",
       "      <th>2018-08-05</th>\n",
       "      <td>0.739726</td>\n",
       "      <td>13297.525400</td>\n",
       "      <td>29.910000</td>\n",
       "      <td>44.265000</td>\n",
       "    </tr>\n",
       "    <tr>\n",
       "      <th>...</th>\n",
       "      <td>...</td>\n",
       "      <td>...</td>\n",
       "      <td>...</td>\n",
       "      <td>...</td>\n",
       "    </tr>\n",
       "    <tr>\n",
       "      <th>2018-10-27</th>\n",
       "      <td>0.801980</td>\n",
       "      <td>17025.213741</td>\n",
       "      <td>31.194245</td>\n",
       "      <td>50.155252</td>\n",
       "    </tr>\n",
       "    <tr>\n",
       "      <th>2018-10-28</th>\n",
       "      <td>0.772277</td>\n",
       "      <td>15298.837483</td>\n",
       "      <td>30.258741</td>\n",
       "      <td>59.007762</td>\n",
       "    </tr>\n",
       "    <tr>\n",
       "      <th>2018-10-29</th>\n",
       "      <td>0.746032</td>\n",
       "      <td>20863.967843</td>\n",
       "      <td>29.460784</td>\n",
       "      <td>377.932745</td>\n",
       "    </tr>\n",
       "    <tr>\n",
       "      <th>2018-10-30</th>\n",
       "      <td>0.860000</td>\n",
       "      <td>19006.962022</td>\n",
       "      <td>31.348315</td>\n",
       "      <td>247.891461</td>\n",
       "    </tr>\n",
       "    <tr>\n",
       "      <th>2018-10-31</th>\n",
       "      <td>0.763441</td>\n",
       "      <td>16791.528014</td>\n",
       "      <td>30.659574</td>\n",
       "      <td>155.795248</td>\n",
       "    </tr>\n",
       "  </tbody>\n",
       "</table>\n",
       "<p>91 rows × 4 columns</p>\n",
       "</div>"
      ],
      "text/plain": [
       "            card_present_flag       balance        age      amount\n",
       "date                                                              \n",
       "2018-08-01           0.750000   9933.975328  30.233577  218.014161\n",
       "2018-08-02           0.858586  13963.617895  31.493421  143.331053\n",
       "2018-08-03           0.797980  10187.786688  31.751592  242.653376\n",
       "2018-08-04           0.787234   8206.809407  31.033898   53.356356\n",
       "2018-08-05           0.739726  13297.525400  29.910000   44.265000\n",
       "...                       ...           ...        ...         ...\n",
       "2018-10-27           0.801980  17025.213741  31.194245   50.155252\n",
       "2018-10-28           0.772277  15298.837483  30.258741   59.007762\n",
       "2018-10-29           0.746032  20863.967843  29.460784  377.932745\n",
       "2018-10-30           0.860000  19006.962022  31.348315  247.891461\n",
       "2018-10-31           0.763441  16791.528014  30.659574  155.795248\n",
       "\n",
       "[91 rows x 4 columns]"
      ]
     },
     "execution_count": 33,
     "metadata": {},
     "output_type": "execute_result"
    }
   ],
   "source": [
    "date_mean = df_ANZ.groupby('date').mean()\n",
    "date_mean"
   ]
  },
  {
   "cell_type": "code",
   "execution_count": 34,
   "metadata": {},
   "outputs": [
    {
     "data": {
      "text/plain": [
       "190.61056774083966"
      ]
     },
     "execution_count": 34,
     "metadata": {},
     "output_type": "execute_result"
    }
   ],
   "source": [
    "tran_amount = date_mean['amount'].mean()\n",
    "tran_amount"
   ]
  },
  {
   "cell_type": "code",
   "execution_count": 35,
   "metadata": {},
   "outputs": [
    {
     "data": {
      "text/plain": [
       "91"
      ]
     },
     "execution_count": 35,
     "metadata": {},
     "output_type": "execute_result"
    }
   ],
   "source": [
    "length = len(date_mean.index)\n",
    "length"
   ]
  },
  {
   "cell_type": "markdown",
   "metadata": {},
   "source": [
    "### Average Transaction amount of customers"
   ]
  },
  {
   "cell_type": "code",
   "execution_count": 36,
   "metadata": {},
   "outputs": [
    {
     "data": {
      "text/plain": [
       "<matplotlib.legend.Legend at 0x2b5e4223f08>"
      ]
     },
     "execution_count": 36,
     "metadata": {},
     "output_type": "execute_result"
    },
    {
     "data": {
      "image/png": "[encoded data removed]",
      "text/plain": [
       "<Figure size 432x288 with 1 Axes>"
      ]
     },
     "metadata": {
      "needs_background": "light"
     },
     "output_type": "display_data"
    }
   ],
   "source": [
    "#plt.figure()\n",
    "#plt.plot(date_mean.index, date_mean['amount'], c='blue', label='Amount')\n",
    "#plt.plot(date_mean.index, np.linspace(tran_amount,tran_amount,length), color = 'black', label= 'Overall transaction amount')\n",
    "#plt.title('ANZ Transaction Volume')\n",
    "#plt.ylabel('Amount')\n",
    "#plt.xlabel('Date')\n",
    "#plt.legend()\n",
    "#plt.tight_layout()\n",
    "#plt.show()\n",
    "sns.lineplot(x = df_ANZ.groupby('date').mean().index, y=df_ANZ.groupby('date').mean()['amount'], color='blue', label='Amount')\n",
    "plt.plot(date_mean.index, np.linspace(tran_amount, tran_amount, length), color='black', label='Overall mean transaction amount')\n",
    "plt.title('Transaction Amount')\n",
    "plt.legend()"
   ]
  },
  {
   "cell_type": "markdown",
   "metadata": {},
   "source": [
    "### Month of August Average Transaction Amount and Balance generated by Customers' age and gender"
   ]
  },
  {
   "cell_type": "code",
   "execution_count": 37,
   "metadata": {},
   "outputs": [
    {
     "data": {
      "text/html": [
       "<div>\n",
       "<style scoped>\n",
       "    .dataframe tbody tr th:only-of-type {\n",
       "        vertical-align: middle;\n",
       "    }\n",
       "\n",
       "    .dataframe tbody tr th {\n",
       "        vertical-align: top;\n",
       "    }\n",
       "\n",
       "    .dataframe thead th {\n",
       "        text-align: right;\n",
       "    }\n",
       "</style>\n",
       "<table border=\"1\" class=\"dataframe\">\n",
       "  <thead>\n",
       "    <tr style=\"text-align: right;\">\n",
       "      <th></th>\n",
       "      <th>card_present_flag</th>\n",
       "      <th>balance</th>\n",
       "      <th>age</th>\n",
       "      <th>amount</th>\n",
       "    </tr>\n",
       "    <tr>\n",
       "      <th>customer_id</th>\n",
       "      <th></th>\n",
       "      <th></th>\n",
       "      <th></th>\n",
       "      <th></th>\n",
       "    </tr>\n",
       "  </thead>\n",
       "  <tbody>\n",
       "    <tr>\n",
       "      <th>CUS-1005756958</th>\n",
       "      <td>0.857143</td>\n",
       "      <td>903.382800</td>\n",
       "      <td>53</td>\n",
       "      <td>122.788000</td>\n",
       "    </tr>\n",
       "    <tr>\n",
       "      <th>CUS-1117979751</th>\n",
       "      <td>0.785714</td>\n",
       "      <td>6750.908372</td>\n",
       "      <td>21</td>\n",
       "      <td>202.402326</td>\n",
       "    </tr>\n",
       "    <tr>\n",
       "      <th>CUS-1140341822</th>\n",
       "      <td>0.700000</td>\n",
       "      <td>2275.090000</td>\n",
       "      <td>28</td>\n",
       "      <td>294.950667</td>\n",
       "    </tr>\n",
       "    <tr>\n",
       "      <th>CUS-1147642491</th>\n",
       "      <td>0.764706</td>\n",
       "      <td>3768.855862</td>\n",
       "      <td>34</td>\n",
       "      <td>305.363103</td>\n",
       "    </tr>\n",
       "    <tr>\n",
       "      <th>CUS-1196156254</th>\n",
       "      <td>0.814815</td>\n",
       "      <td>17873.442805</td>\n",
       "      <td>34</td>\n",
       "      <td>179.216220</td>\n",
       "    </tr>\n",
       "    <tr>\n",
       "      <th>...</th>\n",
       "      <td>...</td>\n",
       "      <td>...</td>\n",
       "      <td>...</td>\n",
       "      <td>...</td>\n",
       "    </tr>\n",
       "    <tr>\n",
       "      <th>CUS-72755508</th>\n",
       "      <td>0.933333</td>\n",
       "      <td>1964.083158</td>\n",
       "      <td>35</td>\n",
       "      <td>189.337895</td>\n",
       "    </tr>\n",
       "    <tr>\n",
       "      <th>CUS-809013380</th>\n",
       "      <td>0.836364</td>\n",
       "      <td>2733.607794</td>\n",
       "      <td>21</td>\n",
       "      <td>105.385441</td>\n",
       "    </tr>\n",
       "    <tr>\n",
       "      <th>CUS-860700529</th>\n",
       "      <td>0.750000</td>\n",
       "      <td>1463.578868</td>\n",
       "      <td>30</td>\n",
       "      <td>105.405094</td>\n",
       "    </tr>\n",
       "    <tr>\n",
       "      <th>CUS-880898248</th>\n",
       "      <td>0.800000</td>\n",
       "      <td>6307.059375</td>\n",
       "      <td>26</td>\n",
       "      <td>134.296562</td>\n",
       "    </tr>\n",
       "    <tr>\n",
       "      <th>CUS-883482547</th>\n",
       "      <td>0.780488</td>\n",
       "      <td>4668.829016</td>\n",
       "      <td>19</td>\n",
       "      <td>176.448525</td>\n",
       "    </tr>\n",
       "  </tbody>\n",
       "</table>\n",
       "<p>100 rows × 4 columns</p>\n",
       "</div>"
      ],
      "text/plain": [
       "                card_present_flag       balance  age      amount\n",
       "customer_id                                                     \n",
       "CUS-1005756958           0.857143    903.382800   53  122.788000\n",
       "CUS-1117979751           0.785714   6750.908372   21  202.402326\n",
       "CUS-1140341822           0.700000   2275.090000   28  294.950667\n",
       "CUS-1147642491           0.764706   3768.855862   34  305.363103\n",
       "CUS-1196156254           0.814815  17873.442805   34  179.216220\n",
       "...                           ...           ...  ...         ...\n",
       "CUS-72755508             0.933333   1964.083158   35  189.337895\n",
       "CUS-809013380            0.836364   2733.607794   21  105.385441\n",
       "CUS-860700529            0.750000   1463.578868   30  105.405094\n",
       "CUS-880898248            0.800000   6307.059375   26  134.296562\n",
       "CUS-883482547            0.780488   4668.829016   19  176.448525\n",
       "\n",
       "[100 rows x 4 columns]"
      ]
     },
     "execution_count": 37,
     "metadata": {},
     "output_type": "execute_result"
    }
   ],
   "source": [
    "Aug_cust_by_id = df_ANZ[df_ANZ['months'] == 'August'].groupby('customer_id').mean()\n",
    "Aug_cust_by_id"
   ]
  },
  {
   "cell_type": "code",
   "execution_count": null,
   "metadata": {},
   "outputs": [],
   "source": []
  },
  {
   "cell_type": "code",
   "execution_count": 38,
   "metadata": {},
   "outputs": [
    {
     "data": {
      "text/html": [
       "<div>\n",
       "<style scoped>\n",
       "    .dataframe tbody tr th:only-of-type {\n",
       "        vertical-align: middle;\n",
       "    }\n",
       "\n",
       "    .dataframe tbody tr th {\n",
       "        vertical-align: top;\n",
       "    }\n",
       "\n",
       "    .dataframe thead th {\n",
       "        text-align: right;\n",
       "    }\n",
       "</style>\n",
       "<table border=\"1\" class=\"dataframe\">\n",
       "  <thead>\n",
       "    <tr style=\"text-align: right;\">\n",
       "      <th></th>\n",
       "      <th>card_present_flag</th>\n",
       "      <th>balance</th>\n",
       "      <th>age</th>\n",
       "      <th>amount</th>\n",
       "    </tr>\n",
       "    <tr>\n",
       "      <th>gender</th>\n",
       "      <th></th>\n",
       "      <th></th>\n",
       "      <th></th>\n",
       "      <th></th>\n",
       "    </tr>\n",
       "  </thead>\n",
       "  <tbody>\n",
       "    <tr>\n",
       "      <th>F</th>\n",
       "      <td>0.817684</td>\n",
       "      <td>7443.947172</td>\n",
       "      <td>30.428120</td>\n",
       "      <td>162.926567</td>\n",
       "    </tr>\n",
       "    <tr>\n",
       "      <th>M</th>\n",
       "      <td>0.792363</td>\n",
       "      <td>13906.689007</td>\n",
       "      <td>30.533757</td>\n",
       "      <td>205.742647</td>\n",
       "    </tr>\n",
       "  </tbody>\n",
       "</table>\n",
       "</div>"
      ],
      "text/plain": [
       "        card_present_flag       balance        age      amount\n",
       "gender                                                        \n",
       "F                0.817684   7443.947172  30.428120  162.926567\n",
       "M                0.792363  13906.689007  30.533757  205.742647"
      ]
     },
     "execution_count": 38,
     "metadata": {},
     "output_type": "execute_result"
    }
   ],
   "source": [
    "Aug_cust_by_gender = df_ANZ[df_ANZ['months'] == 'August'].groupby('gender').mean()\n",
    "Aug_cust_by_gender"
   ]
  },
  {
   "cell_type": "code",
   "execution_count": 39,
   "metadata": {},
   "outputs": [
    {
     "data": {
      "text/plain": [
       "7443.947172195884"
      ]
     },
     "execution_count": 39,
     "metadata": {},
     "output_type": "execute_result"
    }
   ],
   "source": [
    "mean_female_aug_balance = Aug_cust_by_gender['balance'].iloc[0]\n",
    "mean_female_aug_balance"
   ]
  },
  {
   "cell_type": "code",
   "execution_count": 40,
   "metadata": {},
   "outputs": [
    {
     "data": {
      "text/plain": [
       "13906.689006849283"
      ]
     },
     "execution_count": 40,
     "metadata": {},
     "output_type": "execute_result"
    }
   ],
   "source": [
    "mean_male_aug_balance = Aug_cust_by_gender['balance'].iloc[1]\n",
    "mean_male_aug_balance"
   ]
  },
  {
   "cell_type": "code",
   "execution_count": 41,
   "metadata": {},
   "outputs": [
    {
     "data": {
      "text/plain": [
       "100"
      ]
     },
     "execution_count": 41,
     "metadata": {},
     "output_type": "execute_result"
    }
   ],
   "source": [
    "length = len(Aug_cust_by_id['age'])\n",
    "length"
   ]
  },
  {
   "cell_type": "code",
   "execution_count": 42,
   "metadata": {},
   "outputs": [
    {
     "data": {
      "text/plain": [
       "<matplotlib.legend.Legend at 0x2b5e417b408>"
      ]
     },
     "execution_count": 42,
     "metadata": {},
     "output_type": "execute_result"
    },
    {
     "data": {
      "image/png": "[encoded data removed]",
      "text/plain": [
       "<Figure size 432x288 with 1 Axes>"
      ]
     },
     "metadata": {
      "needs_background": "light"
     },
     "output_type": "display_data"
    }
   ],
   "source": [
    "sns.scatterplot(x = Aug_cust_by_id['age'], y=Aug_cust_by_id['balance'], color='blue', label='Balance')\n",
    "plt.plot(Aug_cust_by_id['age'], np.linspace(mean_female_aug_balance, mean_female_aug_balance, length), color = 'red', label='Mean Female Balance')\n",
    "plt.plot(Aug_cust_by_id['age'], np.linspace(mean_male_aug_balance, mean_male_aug_balance, length), color = 'yellow', label='Mean Male Balance')\n",
    "plt.xlabel('Age')\n",
    "plt.ylabel('Balance')\n",
    "plt.title('Scatter Plot of Balance Vs Age in August')\n",
    "plt.legend()"
   ]
  },
  {
   "cell_type": "code",
   "execution_count": 43,
   "metadata": {},
   "outputs": [
    {
     "data": {
      "text/plain": [
       "162.92656661400727"
      ]
     },
     "execution_count": 43,
     "metadata": {},
     "output_type": "execute_result"
    }
   ],
   "source": [
    "mean_female_aug_amount = Aug_cust_by_gender['amount'].iloc[0]\n",
    "mean_female_aug_amount"
   ]
  },
  {
   "cell_type": "code",
   "execution_count": 44,
   "metadata": {},
   "outputs": [
    {
     "data": {
      "text/plain": [
       "205.74264677103739"
      ]
     },
     "execution_count": 44,
     "metadata": {},
     "output_type": "execute_result"
    }
   ],
   "source": [
    "mean_male_aug_amount = Aug_cust_by_gender['amount'].iloc[1]\n",
    "mean_male_aug_amount"
   ]
  },
  {
   "cell_type": "code",
   "execution_count": 45,
   "metadata": {},
   "outputs": [
    {
     "data": {
      "text/plain": [
       "100"
      ]
     },
     "execution_count": 45,
     "metadata": {},
     "output_type": "execute_result"
    }
   ],
   "source": [
    "length = len(Aug_cust_by_id['age'])\n",
    "length"
   ]
  },
  {
   "cell_type": "code",
   "execution_count": 46,
   "metadata": {},
   "outputs": [
    {
     "data": {
      "text/plain": [
       "<matplotlib.legend.Legend at 0x2b5e4480fc8>"
      ]
     },
     "execution_count": 46,
     "metadata": {},
     "output_type": "execute_result"
    },
    {
     "data": {
      "image/png": "[encoded data removed]",
      "text/plain": [
       "<Figure size 432x288 with 1 Axes>"
      ]
     },
     "metadata": {
      "needs_background": "light"
     },
     "output_type": "display_data"
    }
   ],
   "source": [
    "sns.scatterplot(x = Aug_cust_by_id['age'], y=Aug_cust_by_id['amount'], color='black', label='Amount')\n",
    "plt.plot(Aug_cust_by_id['age'], np.linspace(mean_female_aug_amount, mean_female_aug_amount, length), color = 'red', label='Mean Female Amount')\n",
    "plt.plot(Aug_cust_by_id['age'], np.linspace(mean_male_aug_amount, mean_male_aug_amount, length), color = 'blue', label='Mean Male Amount')\n",
    "plt.xlabel('Age')\n",
    "plt.ylabel('Amount')\n",
    "plt.title('Scatter Plot of Amount Vs Age in August')\n",
    "plt.legend()"
   ]
  },
  {
   "cell_type": "markdown",
   "metadata": {},
   "source": [
    "### Month of September Average Transaction Amount and Balance Generated by Customers' age and gender"
   ]
  },
  {
   "cell_type": "code",
   "execution_count": 47,
   "metadata": {},
   "outputs": [
    {
     "data": {
      "text/html": [
       "<div>\n",
       "<style scoped>\n",
       "    .dataframe tbody tr th:only-of-type {\n",
       "        vertical-align: middle;\n",
       "    }\n",
       "\n",
       "    .dataframe tbody tr th {\n",
       "        vertical-align: top;\n",
       "    }\n",
       "\n",
       "    .dataframe thead th {\n",
       "        text-align: right;\n",
       "    }\n",
       "</style>\n",
       "<table border=\"1\" class=\"dataframe\">\n",
       "  <thead>\n",
       "    <tr style=\"text-align: right;\">\n",
       "      <th></th>\n",
       "      <th>card_present_flag</th>\n",
       "      <th>balance</th>\n",
       "      <th>age</th>\n",
       "      <th>amount</th>\n",
       "    </tr>\n",
       "    <tr>\n",
       "      <th>customer_id</th>\n",
       "      <th></th>\n",
       "      <th></th>\n",
       "      <th></th>\n",
       "      <th></th>\n",
       "    </tr>\n",
       "  </thead>\n",
       "  <tbody>\n",
       "    <tr>\n",
       "      <th>CUS-1005756958</th>\n",
       "      <td>0.500000</td>\n",
       "      <td>3706.160714</td>\n",
       "      <td>53</td>\n",
       "      <td>333.087143</td>\n",
       "    </tr>\n",
       "    <tr>\n",
       "      <th>CUS-1117979751</th>\n",
       "      <td>0.888889</td>\n",
       "      <td>9334.488800</td>\n",
       "      <td>21</td>\n",
       "      <td>530.304400</td>\n",
       "    </tr>\n",
       "    <tr>\n",
       "      <th>CUS-1140341822</th>\n",
       "      <td>0.882353</td>\n",
       "      <td>5505.279091</td>\n",
       "      <td>28</td>\n",
       "      <td>277.897727</td>\n",
       "    </tr>\n",
       "    <tr>\n",
       "      <th>CUS-1147642491</th>\n",
       "      <td>0.800000</td>\n",
       "      <td>7857.650256</td>\n",
       "      <td>34</td>\n",
       "      <td>228.825128</td>\n",
       "    </tr>\n",
       "    <tr>\n",
       "      <th>CUS-1196156254</th>\n",
       "      <td>0.732394</td>\n",
       "      <td>22436.096633</td>\n",
       "      <td>34</td>\n",
       "      <td>113.517449</td>\n",
       "    </tr>\n",
       "    <tr>\n",
       "      <th>...</th>\n",
       "      <td>...</td>\n",
       "      <td>...</td>\n",
       "      <td>...</td>\n",
       "      <td>...</td>\n",
       "    </tr>\n",
       "    <tr>\n",
       "      <th>CUS-72755508</th>\n",
       "      <td>0.888889</td>\n",
       "      <td>4753.496923</td>\n",
       "      <td>35</td>\n",
       "      <td>242.844615</td>\n",
       "    </tr>\n",
       "    <tr>\n",
       "      <th>CUS-809013380</th>\n",
       "      <td>0.709677</td>\n",
       "      <td>4074.157857</td>\n",
       "      <td>21</td>\n",
       "      <td>140.050714</td>\n",
       "    </tr>\n",
       "    <tr>\n",
       "      <th>CUS-860700529</th>\n",
       "      <td>0.762500</td>\n",
       "      <td>3416.491798</td>\n",
       "      <td>30</td>\n",
       "      <td>68.092247</td>\n",
       "    </tr>\n",
       "    <tr>\n",
       "      <th>CUS-880898248</th>\n",
       "      <td>1.000000</td>\n",
       "      <td>8683.385882</td>\n",
       "      <td>26</td>\n",
       "      <td>200.494706</td>\n",
       "    </tr>\n",
       "    <tr>\n",
       "      <th>CUS-883482547</th>\n",
       "      <td>0.850000</td>\n",
       "      <td>9498.215690</td>\n",
       "      <td>19</td>\n",
       "      <td>204.102414</td>\n",
       "    </tr>\n",
       "  </tbody>\n",
       "</table>\n",
       "<p>100 rows × 4 columns</p>\n",
       "</div>"
      ],
      "text/plain": [
       "                card_present_flag       balance  age      amount\n",
       "customer_id                                                     \n",
       "CUS-1005756958           0.500000   3706.160714   53  333.087143\n",
       "CUS-1117979751           0.888889   9334.488800   21  530.304400\n",
       "CUS-1140341822           0.882353   5505.279091   28  277.897727\n",
       "CUS-1147642491           0.800000   7857.650256   34  228.825128\n",
       "CUS-1196156254           0.732394  22436.096633   34  113.517449\n",
       "...                           ...           ...  ...         ...\n",
       "CUS-72755508             0.888889   4753.496923   35  242.844615\n",
       "CUS-809013380            0.709677   4074.157857   21  140.050714\n",
       "CUS-860700529            0.762500   3416.491798   30   68.092247\n",
       "CUS-880898248            1.000000   8683.385882   26  200.494706\n",
       "CUS-883482547            0.850000   9498.215690   19  204.102414\n",
       "\n",
       "[100 rows x 4 columns]"
      ]
     },
     "execution_count": 47,
     "metadata": {},
     "output_type": "execute_result"
    }
   ],
   "source": [
    "Sept_cust_by_id = df_ANZ[df_ANZ['months'] == 'September'].groupby('customer_id').mean()\n",
    "Sept_cust_by_id"
   ]
  },
  {
   "cell_type": "code",
   "execution_count": 48,
   "metadata": {},
   "outputs": [
    {
     "data": {
      "text/html": [
       "<div>\n",
       "<style scoped>\n",
       "    .dataframe tbody tr th:only-of-type {\n",
       "        vertical-align: middle;\n",
       "    }\n",
       "\n",
       "    .dataframe tbody tr th {\n",
       "        vertical-align: top;\n",
       "    }\n",
       "\n",
       "    .dataframe thead th {\n",
       "        text-align: right;\n",
       "    }\n",
       "</style>\n",
       "<table border=\"1\" class=\"dataframe\">\n",
       "  <thead>\n",
       "    <tr style=\"text-align: right;\">\n",
       "      <th></th>\n",
       "      <th>card_present_flag</th>\n",
       "      <th>balance</th>\n",
       "      <th>age</th>\n",
       "      <th>amount</th>\n",
       "    </tr>\n",
       "    <tr>\n",
       "      <th>gender</th>\n",
       "      <th></th>\n",
       "      <th></th>\n",
       "      <th></th>\n",
       "      <th></th>\n",
       "    </tr>\n",
       "  </thead>\n",
       "  <tbody>\n",
       "    <tr>\n",
       "      <th>F</th>\n",
       "      <td>0.793578</td>\n",
       "      <td>13010.549875</td>\n",
       "      <td>30.442998</td>\n",
       "      <td>163.193368</td>\n",
       "    </tr>\n",
       "    <tr>\n",
       "      <th>M</th>\n",
       "      <td>0.805104</td>\n",
       "      <td>16309.192256</td>\n",
       "      <td>30.616635</td>\n",
       "      <td>199.357433</td>\n",
       "    </tr>\n",
       "  </tbody>\n",
       "</table>\n",
       "</div>"
      ],
      "text/plain": [
       "        card_present_flag       balance        age      amount\n",
       "gender                                                        \n",
       "F                0.793578  13010.549875  30.442998  163.193368\n",
       "M                0.805104  16309.192256  30.616635  199.357433"
      ]
     },
     "execution_count": 48,
     "metadata": {},
     "output_type": "execute_result"
    }
   ],
   "source": [
    "Sept_cust_by_gender = df_ANZ[df_ANZ['months'] == 'September'].groupby('gender').mean()\n",
    "Sept_cust_by_gender"
   ]
  },
  {
   "cell_type": "code",
   "execution_count": 49,
   "metadata": {},
   "outputs": [
    {
     "data": {
      "text/plain": [
       "13010.549875065064"
      ]
     },
     "execution_count": 49,
     "metadata": {},
     "output_type": "execute_result"
    }
   ],
   "source": [
    "mean_female_sept_balance = Sept_cust_by_gender['balance'].iloc[0]\n",
    "mean_female_sept_balance"
   ]
  },
  {
   "cell_type": "code",
   "execution_count": 50,
   "metadata": {},
   "outputs": [
    {
     "data": {
      "text/plain": [
       "16309.192256214097"
      ]
     },
     "execution_count": 50,
     "metadata": {},
     "output_type": "execute_result"
    }
   ],
   "source": [
    "mean_male_sept_balance = Sept_cust_by_gender['balance'].iloc[1]\n",
    "mean_male_sept_balance"
   ]
  },
  {
   "cell_type": "code",
   "execution_count": 51,
   "metadata": {},
   "outputs": [
    {
     "data": {
      "text/plain": [
       "100"
      ]
     },
     "execution_count": 51,
     "metadata": {},
     "output_type": "execute_result"
    }
   ],
   "source": [
    "length = len(Sept_cust_by_id['age'])\n",
    "length"
   ]
  },
  {
   "cell_type": "code",
   "execution_count": 52,
   "metadata": {},
   "outputs": [
    {
     "data": {
      "text/plain": [
       "<matplotlib.legend.Legend at 0x2b5e45500c8>"
      ]
     },
     "execution_count": 52,
     "metadata": {},
     "output_type": "execute_result"
    },
    {
     "data": {
      "image/png": "[encoded data removed]",
      "text/plain": [
       "<Figure size 432x288 with 1 Axes>"
      ]
     },
     "metadata": {
      "needs_background": "light"
     },
     "output_type": "display_data"
    }
   ],
   "source": [
    "sns.scatterplot(x = Sept_cust_by_id['age'], y=Sept_cust_by_id['balance'], color='red', label='Balance')\n",
    "plt.plot(Sept_cust_by_id['age'], np.linspace(mean_female_sept_balance, mean_female_sept_balance, length), color = 'black', label='Mean Female Balance')\n",
    "plt.plot(Sept_cust_by_id['age'], np.linspace(mean_male_sept_balance, mean_male_sept_balance, length), color = 'blue', label='Mean Male Balance')\n",
    "plt.xlabel('Age')\n",
    "plt.ylabel('Balance')\n",
    "plt.title('Scatter Plot of Balance Vs Age in September')\n",
    "plt.legend()"
   ]
  },
  {
   "cell_type": "code",
   "execution_count": 53,
   "metadata": {},
   "outputs": [
    {
     "data": {
      "text/plain": [
       "163.19336803748033"
      ]
     },
     "execution_count": 53,
     "metadata": {},
     "output_type": "execute_result"
    }
   ],
   "source": [
    "mean_female_sept_amount = Sept_cust_by_gender['amount'].iloc[0]\n",
    "mean_female_sept_amount"
   ]
  },
  {
   "cell_type": "code",
   "execution_count": 54,
   "metadata": {},
   "outputs": [
    {
     "data": {
      "text/plain": [
       "199.3574330783938"
      ]
     },
     "execution_count": 54,
     "metadata": {},
     "output_type": "execute_result"
    }
   ],
   "source": [
    "mean_male_sept_amount = Sept_cust_by_gender['amount'].iloc[1]\n",
    "mean_male_sept_amount"
   ]
  },
  {
   "cell_type": "code",
   "execution_count": 55,
   "metadata": {},
   "outputs": [
    {
     "data": {
      "text/plain": [
       "<matplotlib.legend.Legend at 0x2b5e41e1488>"
      ]
     },
     "execution_count": 55,
     "metadata": {},
     "output_type": "execute_result"
    },
    {
     "data": {
      "image/png": "[encoded data removed]",
      "text/plain": [
       "<Figure size 432x288 with 1 Axes>"
      ]
     },
     "metadata": {
      "needs_background": "light"
     },
     "output_type": "display_data"
    }
   ],
   "source": [
    "sns.scatterplot(x = Sept_cust_by_id['age'], y=Sept_cust_by_id['amount'], color='black', label='Amount')\n",
    "plt.plot(Sept_cust_by_id['age'], np.linspace(mean_female_sept_amount, mean_female_sept_amount, length), color = 'red', label='Mean Female Amount')\n",
    "plt.plot(Sept_cust_by_id['age'], np.linspace(mean_male_sept_amount, mean_male_sept_amount, length), color = 'green', label='Mean Male Amount')\n",
    "plt.xlabel('Age')\n",
    "plt.ylabel('Amount')\n",
    "plt.title('Scatter Plot of Amount Vs Age in September')\n",
    "plt.legend()"
   ]
  },
  {
   "cell_type": "markdown",
   "metadata": {},
   "source": [
    "### Month of October Average Transaction Amount and Balance generated by Customers' age and gender"
   ]
  },
  {
   "cell_type": "code",
   "execution_count": 56,
   "metadata": {},
   "outputs": [
    {
     "data": {
      "text/html": [
       "<div>\n",
       "<style scoped>\n",
       "    .dataframe tbody tr th:only-of-type {\n",
       "        vertical-align: middle;\n",
       "    }\n",
       "\n",
       "    .dataframe tbody tr th {\n",
       "        vertical-align: top;\n",
       "    }\n",
       "\n",
       "    .dataframe thead th {\n",
       "        text-align: right;\n",
       "    }\n",
       "</style>\n",
       "<table border=\"1\" class=\"dataframe\">\n",
       "  <thead>\n",
       "    <tr style=\"text-align: right;\">\n",
       "      <th></th>\n",
       "      <th>card_present_flag</th>\n",
       "      <th>balance</th>\n",
       "      <th>age</th>\n",
       "      <th>amount</th>\n",
       "    </tr>\n",
       "    <tr>\n",
       "      <th>customer_id</th>\n",
       "      <th></th>\n",
       "      <th></th>\n",
       "      <th></th>\n",
       "      <th></th>\n",
       "    </tr>\n",
       "  </thead>\n",
       "  <tbody>\n",
       "    <tr>\n",
       "      <th>CUS-1005756958</th>\n",
       "      <td>NaN</td>\n",
       "      <td>7675.756667</td>\n",
       "      <td>53</td>\n",
       "      <td>607.372222</td>\n",
       "    </tr>\n",
       "    <tr>\n",
       "      <th>CUS-1117979751</th>\n",
       "      <td>0.866667</td>\n",
       "      <td>14354.425625</td>\n",
       "      <td>21</td>\n",
       "      <td>375.733125</td>\n",
       "    </tr>\n",
       "    <tr>\n",
       "      <th>CUS-1140341822</th>\n",
       "      <td>0.815789</td>\n",
       "      <td>6992.895116</td>\n",
       "      <td>28</td>\n",
       "      <td>150.525349</td>\n",
       "    </tr>\n",
       "    <tr>\n",
       "      <th>CUS-1147642491</th>\n",
       "      <td>0.705882</td>\n",
       "      <td>13002.601600</td>\n",
       "      <td>34</td>\n",
       "      <td>224.022200</td>\n",
       "    </tr>\n",
       "    <tr>\n",
       "      <th>CUS-1196156254</th>\n",
       "      <td>0.842105</td>\n",
       "      <td>27575.176769</td>\n",
       "      <td>34</td>\n",
       "      <td>157.388923</td>\n",
       "    </tr>\n",
       "    <tr>\n",
       "      <th>...</th>\n",
       "      <td>...</td>\n",
       "      <td>...</td>\n",
       "      <td>...</td>\n",
       "      <td>...</td>\n",
       "    </tr>\n",
       "    <tr>\n",
       "      <th>CUS-72755508</th>\n",
       "      <td>0.809524</td>\n",
       "      <td>6220.971923</td>\n",
       "      <td>35</td>\n",
       "      <td>180.152692</td>\n",
       "    </tr>\n",
       "    <tr>\n",
       "      <th>CUS-809013380</th>\n",
       "      <td>1.000000</td>\n",
       "      <td>7775.428571</td>\n",
       "      <td>21</td>\n",
       "      <td>411.553571</td>\n",
       "    </tr>\n",
       "    <tr>\n",
       "      <th>CUS-860700529</th>\n",
       "      <td>0.841463</td>\n",
       "      <td>4671.130330</td>\n",
       "      <td>30</td>\n",
       "      <td>70.914286</td>\n",
       "    </tr>\n",
       "    <tr>\n",
       "      <th>CUS-880898248</th>\n",
       "      <td>0.857143</td>\n",
       "      <td>10889.838276</td>\n",
       "      <td>26</td>\n",
       "      <td>129.536207</td>\n",
       "    </tr>\n",
       "    <tr>\n",
       "      <th>CUS-883482547</th>\n",
       "      <td>0.717949</td>\n",
       "      <td>15635.449153</td>\n",
       "      <td>19</td>\n",
       "      <td>237.934068</td>\n",
       "    </tr>\n",
       "  </tbody>\n",
       "</table>\n",
       "<p>100 rows × 4 columns</p>\n",
       "</div>"
      ],
      "text/plain": [
       "                card_present_flag       balance  age      amount\n",
       "customer_id                                                     \n",
       "CUS-1005756958                NaN   7675.756667   53  607.372222\n",
       "CUS-1117979751           0.866667  14354.425625   21  375.733125\n",
       "CUS-1140341822           0.815789   6992.895116   28  150.525349\n",
       "CUS-1147642491           0.705882  13002.601600   34  224.022200\n",
       "CUS-1196156254           0.842105  27575.176769   34  157.388923\n",
       "...                           ...           ...  ...         ...\n",
       "CUS-72755508             0.809524   6220.971923   35  180.152692\n",
       "CUS-809013380            1.000000   7775.428571   21  411.553571\n",
       "CUS-860700529            0.841463   4671.130330   30   70.914286\n",
       "CUS-880898248            0.857143  10889.838276   26  129.536207\n",
       "CUS-883482547            0.717949  15635.449153   19  237.934068\n",
       "\n",
       "[100 rows x 4 columns]"
      ]
     },
     "execution_count": 56,
     "metadata": {},
     "output_type": "execute_result"
    }
   ],
   "source": [
    "Oct_cust_by_id = df_ANZ[df_ANZ['months'] == 'October'].groupby('customer_id').mean()\n",
    "Oct_cust_by_id"
   ]
  },
  {
   "cell_type": "code",
   "execution_count": 57,
   "metadata": {},
   "outputs": [
    {
     "data": {
      "text/html": [
       "<div>\n",
       "<style scoped>\n",
       "    .dataframe tbody tr th:only-of-type {\n",
       "        vertical-align: middle;\n",
       "    }\n",
       "\n",
       "    .dataframe tbody tr th {\n",
       "        vertical-align: top;\n",
       "    }\n",
       "\n",
       "    .dataframe thead th {\n",
       "        text-align: right;\n",
       "    }\n",
       "</style>\n",
       "<table border=\"1\" class=\"dataframe\">\n",
       "  <thead>\n",
       "    <tr style=\"text-align: right;\">\n",
       "      <th></th>\n",
       "      <th>card_present_flag</th>\n",
       "      <th>balance</th>\n",
       "      <th>age</th>\n",
       "      <th>amount</th>\n",
       "    </tr>\n",
       "    <tr>\n",
       "      <th>gender</th>\n",
       "      <th></th>\n",
       "      <th></th>\n",
       "      <th></th>\n",
       "      <th></th>\n",
       "    </tr>\n",
       "  </thead>\n",
       "  <tbody>\n",
       "    <tr>\n",
       "      <th>F</th>\n",
       "      <td>0.798589</td>\n",
       "      <td>15644.693277</td>\n",
       "      <td>30.510320</td>\n",
       "      <td>179.272766</td>\n",
       "    </tr>\n",
       "    <tr>\n",
       "      <th>M</th>\n",
       "      <td>0.808429</td>\n",
       "      <td>20981.752890</td>\n",
       "      <td>30.920893</td>\n",
       "      <td>211.897557</td>\n",
       "    </tr>\n",
       "  </tbody>\n",
       "</table>\n",
       "</div>"
      ],
      "text/plain": [
       "        card_present_flag       balance        age      amount\n",
       "gender                                                        \n",
       "F                0.798589  15644.693277  30.510320  179.272766\n",
       "M                0.808429  20981.752890  30.920893  211.897557"
      ]
     },
     "execution_count": 57,
     "metadata": {},
     "output_type": "execute_result"
    }
   ],
   "source": [
    "Oct_cust_by_gender = df_ANZ[df_ANZ['months'] == 'October'].groupby('gender').mean()\n",
    "Oct_cust_by_gender"
   ]
  },
  {
   "cell_type": "code",
   "execution_count": 58,
   "metadata": {},
   "outputs": [
    {
     "data": {
      "text/plain": [
       "15644.693276573738"
      ]
     },
     "execution_count": 58,
     "metadata": {},
     "output_type": "execute_result"
    }
   ],
   "source": [
    "mean_female_oct_balance = Oct_cust_by_gender['balance'].iloc[0]\n",
    "mean_female_oct_balance"
   ]
  },
  {
   "cell_type": "code",
   "execution_count": 59,
   "metadata": {},
   "outputs": [
    {
     "data": {
      "text/plain": [
       "20981.752889716106"
      ]
     },
     "execution_count": 59,
     "metadata": {},
     "output_type": "execute_result"
    }
   ],
   "source": [
    "mean_male_oct_balance = Oct_cust_by_gender['balance'].iloc[1]\n",
    "mean_male_oct_balance"
   ]
  },
  {
   "cell_type": "code",
   "execution_count": 60,
   "metadata": {},
   "outputs": [
    {
     "data": {
      "text/plain": [
       "<matplotlib.legend.Legend at 0x2b5e43f5cc8>"
      ]
     },
     "execution_count": 60,
     "metadata": {},
     "output_type": "execute_result"
    },
    {
     "data": {
      "image/png": "[encoded data removed]",
      "text/plain": [
       "<Figure size 432x288 with 1 Axes>"
      ]
     },
     "metadata": {
      "needs_background": "light"
     },
     "output_type": "display_data"
    }
   ],
   "source": [
    "sns.scatterplot(x = Oct_cust_by_id['age'], y=Oct_cust_by_id['balance'], color='brown', label='Balance')\n",
    "plt.plot(Oct_cust_by_id['age'], np.linspace(mean_female_oct_balance, mean_female_oct_balance, length), color = 'black', label='Mean Female Balance')\n",
    "plt.plot(Oct_cust_by_id['age'], np.linspace(mean_male_oct_balance, mean_male_oct_balance, length), color = 'green', label='Mean Male Balance')\n",
    "plt.xlabel('Age')\n",
    "plt.ylabel('Balance')\n",
    "plt.title('Scatter Plot of Balance Vs Age in October')\n",
    "plt.legend()"
   ]
  },
  {
   "cell_type": "code",
   "execution_count": 61,
   "metadata": {},
   "outputs": [
    {
     "data": {
      "text/plain": [
       "179.27276573787393"
      ]
     },
     "execution_count": 61,
     "metadata": {},
     "output_type": "execute_result"
    }
   ],
   "source": [
    "mean_female_oct_amount = Oct_cust_by_gender['amount'].iloc[0]\n",
    "mean_female_oct_amount"
   ]
  },
  {
   "cell_type": "code",
   "execution_count": 62,
   "metadata": {},
   "outputs": [
    {
     "data": {
      "text/plain": [
       "211.8975570032573"
      ]
     },
     "execution_count": 62,
     "metadata": {},
     "output_type": "execute_result"
    }
   ],
   "source": [
    "mean_male_oct_amount = Oct_cust_by_gender['amount'].iloc[1]\n",
    "mean_male_oct_amount"
   ]
  },
  {
   "cell_type": "code",
   "execution_count": 63,
   "metadata": {},
   "outputs": [
    {
     "data": {
      "text/plain": [
       "<matplotlib.legend.Legend at 0x2b5e43c44c8>"
      ]
     },
     "execution_count": 63,
     "metadata": {},
     "output_type": "execute_result"
    },
    {
     "data": {
      "image/png": "[encoded data removed]",
      "text/plain": [
       "<Figure size 432x288 with 1 Axes>"
      ]
     },
     "metadata": {
      "needs_background": "light"
     },
     "output_type": "display_data"
    }
   ],
   "source": [
    "sns.scatterplot(x = Oct_cust_by_id['age'], y=Oct_cust_by_id['amount'], color='black', label='Amount')\n",
    "plt.plot(Oct_cust_by_id['age'], np.linspace(mean_female_oct_amount, mean_female_oct_amount, length), color = 'red', label='Mean Female Amount')\n",
    "plt.plot(Oct_cust_by_id['age'], np.linspace(mean_male_oct_amount, mean_male_oct_amount, length), color = 'blue', label='Mean Male Amount')\n",
    "plt.xlabel('Age')\n",
    "plt.ylabel('Amount')\n",
    "plt.title('Scatter Plot of Amount Vs Age in October')\n",
    "plt.legend()"
   ]
  },
  {
   "cell_type": "code",
   "execution_count": 64,
   "metadata": {},
   "outputs": [
    {
     "data": {
      "text/html": [
       "<div>\n",
       "<style scoped>\n",
       "    .dataframe tbody tr th:only-of-type {\n",
       "        vertical-align: middle;\n",
       "    }\n",
       "\n",
       "    .dataframe tbody tr th {\n",
       "        vertical-align: top;\n",
       "    }\n",
       "\n",
       "    .dataframe thead th {\n",
       "        text-align: right;\n",
       "    }\n",
       "</style>\n",
       "<table border=\"1\" class=\"dataframe\">\n",
       "  <thead>\n",
       "    <tr style=\"text-align: right;\">\n",
       "      <th></th>\n",
       "      <th>card_present_flag</th>\n",
       "      <th>balance</th>\n",
       "      <th>age</th>\n",
       "      <th>amount</th>\n",
       "    </tr>\n",
       "  </thead>\n",
       "  <tbody>\n",
       "    <tr>\n",
       "      <th>card_present_flag</th>\n",
       "      <td>1.000</td>\n",
       "      <td>0.006</td>\n",
       "      <td>-0.008</td>\n",
       "      <td>-0.002</td>\n",
       "    </tr>\n",
       "    <tr>\n",
       "      <th>balance</th>\n",
       "      <td>0.006</td>\n",
       "      <td>1.000</td>\n",
       "      <td>0.199</td>\n",
       "      <td>0.059</td>\n",
       "    </tr>\n",
       "    <tr>\n",
       "      <th>age</th>\n",
       "      <td>-0.008</td>\n",
       "      <td>0.199</td>\n",
       "      <td>1.000</td>\n",
       "      <td>0.030</td>\n",
       "    </tr>\n",
       "    <tr>\n",
       "      <th>amount</th>\n",
       "      <td>-0.002</td>\n",
       "      <td>0.059</td>\n",
       "      <td>0.030</td>\n",
       "      <td>1.000</td>\n",
       "    </tr>\n",
       "  </tbody>\n",
       "</table>\n",
       "</div>"
      ],
      "text/plain": [
       "                   card_present_flag  balance    age  amount\n",
       "card_present_flag              1.000    0.006 -0.008  -0.002\n",
       "balance                        0.006    1.000  0.199   0.059\n",
       "age                           -0.008    0.199  1.000   0.030\n",
       "amount                        -0.002    0.059  0.030   1.000"
      ]
     },
     "execution_count": 64,
     "metadata": {},
     "output_type": "execute_result"
    }
   ],
   "source": [
    "#correlaton analysis of the dataset\n",
    "np.round(df_ANZ.corr(), 3)"
   ]
  },
  {
   "cell_type": "code",
   "execution_count": 65,
   "metadata": {},
   "outputs": [
    {
     "data": {
      "text/plain": [
       "<matplotlib.axes._subplots.AxesSubplot at 0x2b5e4214248>"
      ]
     },
     "execution_count": 65,
     "metadata": {},
     "output_type": "execute_result"
    },
    {
     "data": {
      "image/png": "[encoded data removed]",
      "text/plain": [
       "<Figure size 648x504 with 2 Axes>"
      ]
     },
     "metadata": {
      "needs_background": "light"
     },
     "output_type": "display_data"
    }
   ],
   "source": [
    "f, ax  = plt.subplots(figsize = (9,7))\n",
    "sns.heatmap(df_ANZ.corr(), vmax = 1, square=True, annot = True)\n",
    "#sns.heatmap(np.round(df_ANZ.corr(), 3), annot = True, vmax=1, square = True)"
   ]
  },
  {
   "cell_type": "code",
   "execution_count": 66,
   "metadata": {},
   "outputs": [
    {
     "data": {
      "text/html": [
       "<div>\n",
       "<style scoped>\n",
       "    .dataframe tbody tr th:only-of-type {\n",
       "        vertical-align: middle;\n",
       "    }\n",
       "\n",
       "    .dataframe tbody tr th {\n",
       "        vertical-align: top;\n",
       "    }\n",
       "\n",
       "    .dataframe thead th {\n",
       "        text-align: right;\n",
       "    }\n",
       "</style>\n",
       "<table border=\"1\" class=\"dataframe\">\n",
       "  <thead>\n",
       "    <tr style=\"text-align: right;\">\n",
       "      <th></th>\n",
       "      <th>customer_id</th>\n",
       "      <th>status</th>\n",
       "      <th>card_present_flag</th>\n",
       "      <th>balance</th>\n",
       "      <th>date</th>\n",
       "      <th>gender</th>\n",
       "      <th>age</th>\n",
       "      <th>merchant_suburb</th>\n",
       "      <th>merchant_state</th>\n",
       "      <th>amount</th>\n",
       "      <th>movement</th>\n",
       "      <th>months</th>\n",
       "    </tr>\n",
       "  </thead>\n",
       "  <tbody>\n",
       "    <tr>\n",
       "      <th>0</th>\n",
       "      <td>CUS-2487424745</td>\n",
       "      <td>authorized</td>\n",
       "      <td>1.0</td>\n",
       "      <td>35.39</td>\n",
       "      <td>2018-08-01</td>\n",
       "      <td>F</td>\n",
       "      <td>26</td>\n",
       "      <td>Ashmore</td>\n",
       "      <td>QLD</td>\n",
       "      <td>16.25</td>\n",
       "      <td>debit</td>\n",
       "      <td>August</td>\n",
       "    </tr>\n",
       "    <tr>\n",
       "      <th>1</th>\n",
       "      <td>CUS-2487424745</td>\n",
       "      <td>authorized</td>\n",
       "      <td>0.0</td>\n",
       "      <td>21.20</td>\n",
       "      <td>2018-08-01</td>\n",
       "      <td>F</td>\n",
       "      <td>26</td>\n",
       "      <td>Sydney</td>\n",
       "      <td>NSW</td>\n",
       "      <td>14.19</td>\n",
       "      <td>debit</td>\n",
       "      <td>August</td>\n",
       "    </tr>\n",
       "    <tr>\n",
       "      <th>2</th>\n",
       "      <td>CUS-2142601169</td>\n",
       "      <td>authorized</td>\n",
       "      <td>1.0</td>\n",
       "      <td>5.71</td>\n",
       "      <td>2018-08-01</td>\n",
       "      <td>M</td>\n",
       "      <td>38</td>\n",
       "      <td>Sydney</td>\n",
       "      <td>NSW</td>\n",
       "      <td>6.42</td>\n",
       "      <td>debit</td>\n",
       "      <td>August</td>\n",
       "    </tr>\n",
       "    <tr>\n",
       "      <th>3</th>\n",
       "      <td>CUS-1614226872</td>\n",
       "      <td>authorized</td>\n",
       "      <td>1.0</td>\n",
       "      <td>2117.22</td>\n",
       "      <td>2018-08-01</td>\n",
       "      <td>F</td>\n",
       "      <td>40</td>\n",
       "      <td>Buderim</td>\n",
       "      <td>QLD</td>\n",
       "      <td>40.90</td>\n",
       "      <td>debit</td>\n",
       "      <td>August</td>\n",
       "    </tr>\n",
       "    <tr>\n",
       "      <th>4</th>\n",
       "      <td>CUS-2487424745</td>\n",
       "      <td>authorized</td>\n",
       "      <td>1.0</td>\n",
       "      <td>17.95</td>\n",
       "      <td>2018-08-01</td>\n",
       "      <td>F</td>\n",
       "      <td>26</td>\n",
       "      <td>Mermaid Beach</td>\n",
       "      <td>QLD</td>\n",
       "      <td>3.25</td>\n",
       "      <td>debit</td>\n",
       "      <td>August</td>\n",
       "    </tr>\n",
       "  </tbody>\n",
       "</table>\n",
       "</div>"
      ],
      "text/plain": [
       "      customer_id      status  card_present_flag  balance       date gender  \\\n",
       "0  CUS-2487424745  authorized                1.0    35.39 2018-08-01      F   \n",
       "1  CUS-2487424745  authorized                0.0    21.20 2018-08-01      F   \n",
       "2  CUS-2142601169  authorized                1.0     5.71 2018-08-01      M   \n",
       "3  CUS-1614226872  authorized                1.0  2117.22 2018-08-01      F   \n",
       "4  CUS-2487424745  authorized                1.0    17.95 2018-08-01      F   \n",
       "\n",
       "   age merchant_suburb merchant_state  amount movement  months  \n",
       "0   26         Ashmore            QLD   16.25    debit  August  \n",
       "1   26          Sydney            NSW   14.19    debit  August  \n",
       "2   38          Sydney            NSW    6.42    debit  August  \n",
       "3   40         Buderim            QLD   40.90    debit  August  \n",
       "4   26   Mermaid Beach            QLD    3.25    debit  August  "
      ]
     },
     "execution_count": 66,
     "metadata": {},
     "output_type": "execute_result"
    }
   ],
   "source": [
    "df_ANZ.head()"
   ]
  },
  {
   "cell_type": "code",
   "execution_count": 67,
   "metadata": {},
   "outputs": [
    {
     "data": {
      "text/plain": [
       "78"
      ]
     },
     "execution_count": 67,
     "metadata": {},
     "output_type": "execute_result"
    }
   ],
   "source": [
    "df_ANZ['age'].max()"
   ]
  },
  {
   "cell_type": "code",
   "execution_count": 68,
   "metadata": {},
   "outputs": [
    {
     "data": {
      "text/plain": [
       "18"
      ]
     },
     "execution_count": 68,
     "metadata": {},
     "output_type": "execute_result"
    }
   ],
   "source": [
    "df_ANZ['age'].min()"
   ]
  },
  {
   "cell_type": "code",
   "execution_count": 69,
   "metadata": {},
   "outputs": [],
   "source": [
    "#dfining age group\n",
    "def transform(age):\n",
    "    if age >= 18 and age <=29:\n",
    "        return '18-29'\n",
    "    if age >= 30 and age <= 39:\n",
    "        return '30-39'\n",
    "    if age >= 40 and age <= 49:\n",
    "        return '40-49'\n",
    "    if age >= 50 and age <= 59:\n",
    "        return '50-59'\n",
    "    if age >= 60 and age <= 69:\n",
    "        return '60-69'\n",
    "    if age > 69:\n",
    "        return 'above 70'"
   ]
  },
  {
   "cell_type": "code",
   "execution_count": 70,
   "metadata": {},
   "outputs": [
    {
     "name": "stderr",
     "output_type": "stream",
     "text": [
      "C:\\Users\\HP\\anaconda3\\lib\\site-packages\\ipykernel_launcher.py:2: SettingWithCopyWarning: \n",
      "A value is trying to be set on a copy of a slice from a DataFrame.\n",
      "Try using .loc[row_indexer,col_indexer] = value instead\n",
      "\n",
      "See the caveats in the documentation: https://pandas.pydata.org/pandas-docs/stable/user_guide/indexing.html#returning-a-view-versus-a-copy\n",
      "  \n"
     ]
    },
    {
     "data": {
      "text/html": [
       "<div>\n",
       "<style scoped>\n",
       "    .dataframe tbody tr th:only-of-type {\n",
       "        vertical-align: middle;\n",
       "    }\n",
       "\n",
       "    .dataframe tbody tr th {\n",
       "        vertical-align: top;\n",
       "    }\n",
       "\n",
       "    .dataframe thead th {\n",
       "        text-align: right;\n",
       "    }\n",
       "</style>\n",
       "<table border=\"1\" class=\"dataframe\">\n",
       "  <thead>\n",
       "    <tr style=\"text-align: right;\">\n",
       "      <th></th>\n",
       "      <th>customer_id</th>\n",
       "      <th>status</th>\n",
       "      <th>card_present_flag</th>\n",
       "      <th>balance</th>\n",
       "      <th>date</th>\n",
       "      <th>gender</th>\n",
       "      <th>age</th>\n",
       "      <th>merchant_suburb</th>\n",
       "      <th>merchant_state</th>\n",
       "      <th>amount</th>\n",
       "      <th>movement</th>\n",
       "      <th>months</th>\n",
       "      <th>age_group</th>\n",
       "    </tr>\n",
       "  </thead>\n",
       "  <tbody>\n",
       "    <tr>\n",
       "      <th>5790</th>\n",
       "      <td>CUS-2650223890</td>\n",
       "      <td>posted</td>\n",
       "      <td>NaN</td>\n",
       "      <td>3973.61</td>\n",
       "      <td>2018-09-14</td>\n",
       "      <td>F</td>\n",
       "      <td>35</td>\n",
       "      <td>NaN</td>\n",
       "      <td>NaN</td>\n",
       "      <td>45.00</td>\n",
       "      <td>debit</td>\n",
       "      <td>September</td>\n",
       "      <td>30-39</td>\n",
       "    </tr>\n",
       "    <tr>\n",
       "      <th>5791</th>\n",
       "      <td>CUS-880898248</td>\n",
       "      <td>posted</td>\n",
       "      <td>NaN</td>\n",
       "      <td>9137.53</td>\n",
       "      <td>2018-09-14</td>\n",
       "      <td>M</td>\n",
       "      <td>26</td>\n",
       "      <td>NaN</td>\n",
       "      <td>NaN</td>\n",
       "      <td>149.00</td>\n",
       "      <td>debit</td>\n",
       "      <td>September</td>\n",
       "      <td>18-29</td>\n",
       "    </tr>\n",
       "    <tr>\n",
       "      <th>5792</th>\n",
       "      <td>CUS-1478398256</td>\n",
       "      <td>authorized</td>\n",
       "      <td>1.0</td>\n",
       "      <td>13197.84</td>\n",
       "      <td>2018-09-14</td>\n",
       "      <td>M</td>\n",
       "      <td>38</td>\n",
       "      <td>Sunbury</td>\n",
       "      <td>VIC</td>\n",
       "      <td>18.04</td>\n",
       "      <td>debit</td>\n",
       "      <td>September</td>\n",
       "      <td>30-39</td>\n",
       "    </tr>\n",
       "    <tr>\n",
       "      <th>5793</th>\n",
       "      <td>CUS-4023861240</td>\n",
       "      <td>authorized</td>\n",
       "      <td>1.0</td>\n",
       "      <td>10099.13</td>\n",
       "      <td>2018-09-14</td>\n",
       "      <td>M</td>\n",
       "      <td>28</td>\n",
       "      <td>Fountain Gate</td>\n",
       "      <td>VIC</td>\n",
       "      <td>48.03</td>\n",
       "      <td>debit</td>\n",
       "      <td>September</td>\n",
       "      <td>18-29</td>\n",
       "    </tr>\n",
       "    <tr>\n",
       "      <th>5794</th>\n",
       "      <td>CUS-1790886359</td>\n",
       "      <td>authorized</td>\n",
       "      <td>1.0</td>\n",
       "      <td>12219.74</td>\n",
       "      <td>2018-09-14</td>\n",
       "      <td>M</td>\n",
       "      <td>39</td>\n",
       "      <td>Tarneit</td>\n",
       "      <td>VIC</td>\n",
       "      <td>41.25</td>\n",
       "      <td>debit</td>\n",
       "      <td>September</td>\n",
       "      <td>30-39</td>\n",
       "    </tr>\n",
       "    <tr>\n",
       "      <th>...</th>\n",
       "      <td>...</td>\n",
       "      <td>...</td>\n",
       "      <td>...</td>\n",
       "      <td>...</td>\n",
       "      <td>...</td>\n",
       "      <td>...</td>\n",
       "      <td>...</td>\n",
       "      <td>...</td>\n",
       "      <td>...</td>\n",
       "      <td>...</td>\n",
       "      <td>...</td>\n",
       "      <td>...</td>\n",
       "      <td>...</td>\n",
       "    </tr>\n",
       "    <tr>\n",
       "      <th>6015</th>\n",
       "      <td>CUS-1617121891</td>\n",
       "      <td>authorized</td>\n",
       "      <td>0.0</td>\n",
       "      <td>7080.32</td>\n",
       "      <td>2018-09-16</td>\n",
       "      <td>M</td>\n",
       "      <td>22</td>\n",
       "      <td>North Sydney</td>\n",
       "      <td>NSW</td>\n",
       "      <td>23.09</td>\n",
       "      <td>debit</td>\n",
       "      <td>September</td>\n",
       "      <td>18-29</td>\n",
       "    </tr>\n",
       "    <tr>\n",
       "      <th>6016</th>\n",
       "      <td>CUS-3336454548</td>\n",
       "      <td>posted</td>\n",
       "      <td>NaN</td>\n",
       "      <td>9971.90</td>\n",
       "      <td>2018-09-16</td>\n",
       "      <td>M</td>\n",
       "      <td>18</td>\n",
       "      <td>NaN</td>\n",
       "      <td>NaN</td>\n",
       "      <td>40.00</td>\n",
       "      <td>debit</td>\n",
       "      <td>September</td>\n",
       "      <td>18-29</td>\n",
       "    </tr>\n",
       "    <tr>\n",
       "      <th>6017</th>\n",
       "      <td>CUS-860700529</td>\n",
       "      <td>posted</td>\n",
       "      <td>NaN</td>\n",
       "      <td>3532.93</td>\n",
       "      <td>2018-09-16</td>\n",
       "      <td>M</td>\n",
       "      <td>30</td>\n",
       "      <td>NaN</td>\n",
       "      <td>NaN</td>\n",
       "      <td>165.00</td>\n",
       "      <td>debit</td>\n",
       "      <td>September</td>\n",
       "      <td>30-39</td>\n",
       "    </tr>\n",
       "    <tr>\n",
       "      <th>6018</th>\n",
       "      <td>CUS-2977593493</td>\n",
       "      <td>authorized</td>\n",
       "      <td>0.0</td>\n",
       "      <td>28386.24</td>\n",
       "      <td>2018-09-16</td>\n",
       "      <td>F</td>\n",
       "      <td>50</td>\n",
       "      <td>Wantirna South</td>\n",
       "      <td>VIC</td>\n",
       "      <td>57.87</td>\n",
       "      <td>debit</td>\n",
       "      <td>September</td>\n",
       "      <td>50-59</td>\n",
       "    </tr>\n",
       "    <tr>\n",
       "      <th>6019</th>\n",
       "      <td>CUS-2695611575</td>\n",
       "      <td>authorized</td>\n",
       "      <td>0.0</td>\n",
       "      <td>4007.66</td>\n",
       "      <td>2018-09-16</td>\n",
       "      <td>M</td>\n",
       "      <td>37</td>\n",
       "      <td>Tamborine Mountain</td>\n",
       "      <td>QLD</td>\n",
       "      <td>3.70</td>\n",
       "      <td>debit</td>\n",
       "      <td>September</td>\n",
       "      <td>30-39</td>\n",
       "    </tr>\n",
       "  </tbody>\n",
       "</table>\n",
       "<p>230 rows × 13 columns</p>\n",
       "</div>"
      ],
      "text/plain": [
       "         customer_id      status  card_present_flag   balance       date  \\\n",
       "5790  CUS-2650223890      posted                NaN   3973.61 2018-09-14   \n",
       "5791   CUS-880898248      posted                NaN   9137.53 2018-09-14   \n",
       "5792  CUS-1478398256  authorized                1.0  13197.84 2018-09-14   \n",
       "5793  CUS-4023861240  authorized                1.0  10099.13 2018-09-14   \n",
       "5794  CUS-1790886359  authorized                1.0  12219.74 2018-09-14   \n",
       "...              ...         ...                ...       ...        ...   \n",
       "6015  CUS-1617121891  authorized                0.0   7080.32 2018-09-16   \n",
       "6016  CUS-3336454548      posted                NaN   9971.90 2018-09-16   \n",
       "6017   CUS-860700529      posted                NaN   3532.93 2018-09-16   \n",
       "6018  CUS-2977593493  authorized                0.0  28386.24 2018-09-16   \n",
       "6019  CUS-2695611575  authorized                0.0   4007.66 2018-09-16   \n",
       "\n",
       "     gender  age     merchant_suburb merchant_state  amount movement  \\\n",
       "5790      F   35                 NaN            NaN   45.00    debit   \n",
       "5791      M   26                 NaN            NaN  149.00    debit   \n",
       "5792      M   38             Sunbury            VIC   18.04    debit   \n",
       "5793      M   28       Fountain Gate            VIC   48.03    debit   \n",
       "5794      M   39             Tarneit            VIC   41.25    debit   \n",
       "...     ...  ...                 ...            ...     ...      ...   \n",
       "6015      M   22        North Sydney            NSW   23.09    debit   \n",
       "6016      M   18                 NaN            NaN   40.00    debit   \n",
       "6017      M   30                 NaN            NaN  165.00    debit   \n",
       "6018      F   50      Wantirna South            VIC   57.87    debit   \n",
       "6019      M   37  Tamborine Mountain            QLD    3.70    debit   \n",
       "\n",
       "         months age_group  \n",
       "5790  September     30-39  \n",
       "5791  September     18-29  \n",
       "5792  September     30-39  \n",
       "5793  September     18-29  \n",
       "5794  September     30-39  \n",
       "...         ...       ...  \n",
       "6015  September     18-29  \n",
       "6016  September     18-29  \n",
       "6017  September     30-39  \n",
       "6018  September     50-59  \n",
       "6019  September     30-39  \n",
       "\n",
       "[230 rows x 13 columns]"
      ]
     },
     "execution_count": 70,
     "metadata": {},
     "output_type": "execute_result"
    }
   ],
   "source": [
    "#creating new column called age group\n",
    "df_ANZ['age_group'] = df_ANZ['age'].apply(transform)\n",
    "df_ANZ[5790:6020]"
   ]
  },
  {
   "cell_type": "code",
   "execution_count": 71,
   "metadata": {},
   "outputs": [
    {
     "data": {
      "text/plain": [
       "Text(0.5, 1.0, 'Plot of Balance Vs Age Group')"
      ]
     },
     "execution_count": 71,
     "metadata": {},
     "output_type": "execute_result"
    },
    {
     "data": {
      "image/png": "[encoded data removed]",
      "text/plain": [
       "<Figure size 432x288 with 1 Axes>"
      ]
     },
     "metadata": {
      "needs_background": "light"
     },
     "output_type": "display_data"
    }
   ],
   "source": [
    "#plot of age group vs balance\n",
    "sns.barplot(x='age_group', y='balance', data = df_ANZ)\n",
    "plt.title('Plot of Balance Vs Age Group')"
   ]
  },
  {
   "cell_type": "code",
   "execution_count": 72,
   "metadata": {},
   "outputs": [
    {
     "data": {
      "text/plain": [
       "Text(0.5, 1.0, 'Plot of Amount Vs Age group')"
      ]
     },
     "execution_count": 72,
     "metadata": {},
     "output_type": "execute_result"
    },
    {
     "data": {
      "image/png": "[encoded data removed]",
      "text/plain": [
       "<Figure size 432x288 with 1 Axes>"
      ]
     },
     "metadata": {
      "needs_background": "light"
     },
     "output_type": "display_data"
    }
   ],
   "source": [
    "#plot of age group vs amount\n",
    "sns.barplot(x='age_group', y='amount', data=df_ANZ)\n",
    "plt.title('Plot of Amount Vs Age group')"
   ]
  },
  {
   "cell_type": "code",
   "execution_count": 91,
   "metadata": {},
   "outputs": [
    {
     "data": {
      "text/plain": [
       "Text(0.5, 1.0, 'Count of Merchant State')"
      ]
     },
     "execution_count": 91,
     "metadata": {},
     "output_type": "execute_result"
    },
    {
     "data": {
      "image/png": "[encoded data removed]",
      "text/plain": [
       "<Figure size 432x288 with 1 Axes>"
      ]
     },
     "metadata": {
      "needs_background": "light"
     },
     "output_type": "display_data"
    }
   ],
   "source": [
    "#count of merchant state\n",
    "sns.countplot(df_ANZ['merchant_state'])\n",
    "plt.title('Count of Merchant State')"
   ]
  },
  {
   "cell_type": "code",
   "execution_count": 89,
   "metadata": {},
   "outputs": [
    {
     "data": {
      "text/plain": [
       "Text(0.5, 1.0, 'Count of gender')"
      ]
     },
     "execution_count": 89,
     "metadata": {},
     "output_type": "execute_result"
    },
    {
     "data": {
      "image/png": "[encoded data removed]",
      "text/plain": [
       "<Figure size 432x288 with 1 Axes>"
      ]
     },
     "metadata": {
      "needs_background": "light"
     },
     "output_type": "display_data"
    }
   ],
   "source": [
    "#plot of balance vs gender\n",
    "sns.barplot(x='gender', y='balance', data=df_ANZ)\n",
    "plt.title('Count of gender')"
   ]
  },
  {
   "cell_type": "code",
   "execution_count": 75,
   "metadata": {},
   "outputs": [
    {
     "data": {
      "text/plain": [
       "<matplotlib.axes._subplots.AxesSubplot at 0x2b5e481fa48>"
      ]
     },
     "execution_count": 75,
     "metadata": {},
     "output_type": "execute_result"
    },
    {
     "data": {
      "image/png": "[encoded data removed]",
      "text/plain": [
       "<Figure size 432x288 with 1 Axes>"
      ]
     },
     "metadata": {
      "needs_background": "light"
     },
     "output_type": "display_data"
    }
   ],
   "source": [
    "#plot of amount vs gender\n",
    "sns.barplot(x='gender', y='amount', data=df_ANZ)"
   ]
  },
  {
   "cell_type": "code",
   "execution_count": 76,
   "metadata": {},
   "outputs": [
    {
     "data": {
      "text/plain": [
       "<matplotlib.axes._subplots.AxesSubplot at 0x2b5e4882888>"
      ]
     },
     "execution_count": 76,
     "metadata": {},
     "output_type": "execute_result"
    },
    {
     "data": {
      "image/png": "[encoded data removed]",
      "text/plain": [
       "<Figure size 432x288 with 1 Axes>"
      ]
     },
     "metadata": {
      "needs_background": "light"
     },
     "output_type": "display_data"
    }
   ],
   "source": [
    "sns.regplot(x = 'amount', y = 'balance', data = Aug_cust_by_id, color = 'blue')"
   ]
  },
  {
   "cell_type": "code",
   "execution_count": 77,
   "metadata": {
    "scrolled": true
   },
   "outputs": [
    {
     "data": {
      "text/plain": [
       "2263284.2"
      ]
     },
     "execution_count": 77,
     "metadata": {},
     "output_type": "execute_result"
    }
   ],
   "source": [
    "df_ANZ['amount'].sum()"
   ]
  },
  {
   "cell_type": "code",
   "execution_count": 78,
   "metadata": {},
   "outputs": [
    {
     "data": {
      "text/plain": [
       "187.93358797641767"
      ]
     },
     "execution_count": 78,
     "metadata": {},
     "output_type": "execute_result"
    }
   ],
   "source": [
    "df_ANZ['amount'].mean()"
   ]
  },
  {
   "cell_type": "code",
   "execution_count": 79,
   "metadata": {},
   "outputs": [
    {
     "data": {
      "text/plain": [
       "customer_id     merchant_state  gender  age_group\n",
       "CUS-2142601169  NSW             M       30-39        8822.13\n",
       "CUS-2487424745  QLD             F       18-29        7281.97\n",
       "CUS-1271030853  QLD             F       30-39        7081.09\n",
       "CUS-2695611575  QLD             M       30-39        6552.81\n",
       "CUS-4142663097  NT              F       30-39        5915.64\n",
       "CUS-1614226872  QLD             F       40-49        5582.84\n",
       "CUS-3378712515  VIC             F       18-29        5082.86\n",
       "CUS-3026014945  WA              F       18-29        4927.56\n",
       "CUS-51506836    QLD             M       18-29        4545.19\n",
       "CUS-3129499595  NSW             M       30-39        4470.26\n",
       "Name: amount, dtype: float64"
      ]
     },
     "execution_count": 79,
     "metadata": {},
     "output_type": "execute_result"
    }
   ],
   "source": [
    "overall_10_best_customers = df_ANZ.groupby(['customer_id','merchant_state','gender','age_group'])['amount'].sum().sort_values(ascending = False)\n",
    "overall_10_best_customers.head(10)"
   ]
  },
  {
   "cell_type": "code",
   "execution_count": 80,
   "metadata": {},
   "outputs": [
    {
     "data": {
      "text/plain": [
       "customer_id     merchant_state  gender  age_group\n",
       "CUS-3151318058  VIC             M       40-49        2177.26\n",
       "CUS-2370108457  VIC             M       40-49        2135.89\n",
       "CUS-1614226872  QLD             F       40-49        2040.06\n",
       "CUS-1462656821  NSW             M       18-29        2035.75\n",
       "CUS-1609060617  WA              M       18-29        1970.37\n",
       "CUS-4123612273  VIC             F       40-49        1678.66\n",
       "CUS-3026014945  WA              F       18-29        1632.99\n",
       "CUS-2487424745  QLD             F       18-29        1628.39\n",
       "CUS-2142601169  NSW             M       30-39        1606.02\n",
       "CUS-3378712515  VIC             F       18-29        1597.93\n",
       "Name: amount, dtype: float64"
      ]
     },
     "execution_count": 80,
     "metadata": {},
     "output_type": "execute_result"
    }
   ],
   "source": [
    "August_10_best_customers = df_ANZ[df_ANZ['months'] == 'August'].groupby(['customer_id','merchant_state','gender','age_group'])['amount'].sum().sort_values(ascending = False)\n",
    "August_10_best_customers.head(10)"
   ]
  },
  {
   "cell_type": "code",
   "execution_count": 81,
   "metadata": {},
   "outputs": [
    {
     "data": {
      "text/plain": [
       "customer_id     merchant_state  gender  age_group\n",
       "CUS-2142601169  NSW             M       30-39        4525.09\n",
       "CUS-2738291516  NSW             M       30-39        4233.00\n",
       "CUS-4142663097  NT              F       30-39        3784.81\n",
       "CUS-2206365095  VIC             F       30-39        3351.10\n",
       "CUS-1117979751  NSW             M       18-29        2908.74\n",
       "CUS-3702001629  QLD             F       18-29        2455.60\n",
       "CUS-2376382098  NSW             F       30-39        2209.15\n",
       "CUS-3129499595  NSW             M       30-39        2087.63\n",
       "CUS-1614226872  QLD             F       40-49        2058.22\n",
       "CUS-2487424745  QLD             F       18-29        1852.98\n",
       "Name: amount, dtype: float64"
      ]
     },
     "execution_count": 81,
     "metadata": {},
     "output_type": "execute_result"
    }
   ],
   "source": [
    "September_10_best_customers = df_ANZ[df_ANZ['months'] == 'September'].groupby(['customer_id','merchant_state','gender','age_group'])['amount'].sum().sort_values(ascending = False)\n",
    "September_10_best_customers.head(10)"
   ]
  },
  {
   "cell_type": "code",
   "execution_count": 82,
   "metadata": {},
   "outputs": [
    {
     "data": {
      "text/plain": [
       "customer_id     merchant_state  gender  age_group\n",
       "CUS-1271030853  QLD             F       30-39        7081.09\n",
       "CUS-2695611575  QLD             M       30-39        4924.39\n",
       "CUS-2487424745  QLD             F       18-29        3800.60\n",
       "CUS-325142416   VIC             F       18-29        3687.61\n",
       "CUS-2142601169  NSW             M       30-39        2691.02\n",
       "CUS-51506836    QLD             M       18-29        2460.55\n",
       "CUS-3378712515  VIC             F       18-29        2458.53\n",
       "CUS-1140341822  VIC             M       18-29        2146.71\n",
       "CUS-4123612273  VIC             F       40-49        1926.76\n",
       "CUS-3249305314  NSW             M       30-39        1847.20\n",
       "Name: amount, dtype: float64"
      ]
     },
     "execution_count": 82,
     "metadata": {},
     "output_type": "execute_result"
    }
   ],
   "source": [
    "October_10_best_customers = df_ANZ[df_ANZ['months'] == 'October'].groupby(['customer_id', 'merchant_state','gender','age_group'])['amount'].sum().sort_values(ascending = False)\n",
    "October_10_best_customers.head(10)"
   ]
  },
  {
   "cell_type": "code",
   "execution_count": 90,
   "metadata": {},
   "outputs": [
    {
     "data": {
      "text/plain": [
       "Text(0.5, 1.0, 'count of age group')"
      ]
     },
     "execution_count": 90,
     "metadata": {},
     "output_type": "execute_result"
    },
    {
     "data": {
      "image/png": "[encoded data removed]",
      "text/plain": [
       "<Figure size 432x288 with 1 Axes>"
      ]
     },
     "metadata": {
      "needs_background": "light"
     },
     "output_type": "display_data"
    }
   ],
   "source": [
    "sns.countplot(df_ANZ['age_group'])\n",
    "plt.title('count of age group')"
   ]
  },
  {
   "cell_type": "code",
   "execution_count": 84,
   "metadata": {},
   "outputs": [
    {
     "data": {
      "text/plain": [
       "2263284.2"
      ]
     },
     "execution_count": 84,
     "metadata": {},
     "output_type": "execute_result"
    }
   ],
   "source": [
    "#sum of all transaction made\n",
    "df_ANZ['amount'].sum()"
   ]
  },
  {
   "cell_type": "code",
   "execution_count": 85,
   "metadata": {},
   "outputs": [
    {
     "data": {
      "text/plain": [
       "729935.52"
      ]
     },
     "execution_count": 85,
     "metadata": {},
     "output_type": "execute_result"
    }
   ],
   "source": [
    "#sum of august transactions\n",
    "Aug= df_ANZ[df_ANZ['months'] == 'August']\n",
    "Aug_amount = Aug['amount'].sum()\n",
    "Aug_amount"
   ]
  },
  {
   "cell_type": "code",
   "execution_count": 86,
   "metadata": {},
   "outputs": [
    {
     "data": {
      "text/plain": [
       "730550.2100000001"
      ]
     },
     "execution_count": 86,
     "metadata": {},
     "output_type": "execute_result"
    }
   ],
   "source": [
    "#sum of september transactions\n",
    "Sept = df_ANZ[df_ANZ['months'] == 'September']\n",
    "Sept_amount = Sept['amount'].sum()\n",
    "Sept.amount.sum()"
   ]
  },
  {
   "cell_type": "code",
   "execution_count": 87,
   "metadata": {},
   "outputs": [
    {
     "data": {
      "text/plain": [
       "802798.4700000001"
      ]
     },
     "execution_count": 87,
     "metadata": {},
     "output_type": "execute_result"
    }
   ],
   "source": [
    "#sum of October transactions\n",
    "Oct = df_ANZ[df_ANZ['months'] == 'October']\n",
    "Oct_amount = Oct['amount'].sum()\n",
    "Oct_amount"
   ]
  },
  {
   "cell_type": "code",
   "execution_count": null,
   "metadata": {},
   "outputs": [],
   "source": []
  }
 ],
 "metadata": {
  "kernelspec": {
   "display_name": "Python 3",
   "language": "python",
   "name": "python3"
  },
  "language_info": {
   "codemirror_mode": {
    "name": "ipython",
    "version": 3
   },
   "file_extension": ".py",
   "mimetype": "text/x-python",
   "name": "python",
   "nbconvert_exporter": "python",
   "pygments_lexer": "ipython3",
   "version": "3.7.6"
  }
 },
 "nbformat": 4,
 "nbformat_minor": 4
}
